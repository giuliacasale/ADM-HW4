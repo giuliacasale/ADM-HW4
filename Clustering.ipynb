{
 "cells": [
  {
   "cell_type": "code",
   "execution_count": 3,
   "metadata": {},
   "outputs": [],
   "source": [
    "#basic libraries\n",
    "from math import *\n",
    "import random\n",
    "import pandas as pd\n",
    "import numpy as np\n",
    "import numpy.matlib\n",
    "\n",
    "#creation of dictionaries\n",
    "from collections import defaultdict\n",
    "from collections import Counter\n",
    "\n",
    "#file saving and format\n",
    "import pickle\n",
    "import ast\n",
    "\n",
    "#clustering\n",
    "import sklearn\n",
    "from sklearn.cluster import KMeans\n",
    "from sklearn.metrics.pairwise import euclidean_distances\n",
    "#SVD method\n",
    "from sklearn.pipeline import make_pipeline\n",
    "from sklearn.decomposition import TruncatedSVD\n",
    "from sklearn.preprocessing import Normalizer\n",
    "\n",
    "#preprocesisng\n",
    "import nltk\n",
    "import re\n",
    "from nltk.corpus import stopwords\n",
    "from nltk.stem import PorterStemmer\n",
    "from nltk.tokenize import RegexpTokenizer\n",
    "\n",
    "#data visualization\n",
    "import seaborn as sns\n",
    "import matplotlib.pyplot as plt"
   ]
  },
  {
   "cell_type": "code",
   "execution_count": 2,
   "metadata": {},
   "outputs": [],
   "source": [
    "#Useful functions to save and load files in pickle format\n",
    "def save_dict(obj, name ):\n",
    "    with open(f'{name}.pickle', 'wb') as f:\n",
    "        pickle.dump(obj, f)\n",
    "\n",
    "def load_obj(name ):\n",
    "    with open(f'{name}.pickle', 'rb') as f:\n",
    "        return pickle.load(f)"
   ]
  },
  {
   "cell_type": "markdown",
   "metadata": {},
   "source": [
    "## Import Data"
   ]
  },
  {
   "cell_type": "code",
   "execution_count": 3,
   "metadata": {},
   "outputs": [],
   "source": [
    "data = pd.read_csv('Reviews.csv', usecols = ['ProductId','Summary','Text'])"
   ]
  },
  {
   "cell_type": "code",
   "execution_count": 4,
   "metadata": {},
   "outputs": [
    {
     "data": {
      "text/html": [
       "<div>\n",
       "<style scoped>\n",
       "    .dataframe tbody tr th:only-of-type {\n",
       "        vertical-align: middle;\n",
       "    }\n",
       "\n",
       "    .dataframe tbody tr th {\n",
       "        vertical-align: top;\n",
       "    }\n",
       "\n",
       "    .dataframe thead th {\n",
       "        text-align: right;\n",
       "    }\n",
       "</style>\n",
       "<table border=\"1\" class=\"dataframe\">\n",
       "  <thead>\n",
       "    <tr style=\"text-align: right;\">\n",
       "      <th></th>\n",
       "      <th>ProductId</th>\n",
       "      <th>Summary</th>\n",
       "      <th>Text</th>\n",
       "    </tr>\n",
       "  </thead>\n",
       "  <tbody>\n",
       "    <tr>\n",
       "      <th>0</th>\n",
       "      <td>B001E4KFG0</td>\n",
       "      <td>Good Quality Dog Food</td>\n",
       "      <td>I have bought several of the Vitality canned d...</td>\n",
       "    </tr>\n",
       "    <tr>\n",
       "      <th>1</th>\n",
       "      <td>B00813GRG4</td>\n",
       "      <td>Not as Advertised</td>\n",
       "      <td>Product arrived labeled as Jumbo Salted Peanut...</td>\n",
       "    </tr>\n",
       "    <tr>\n",
       "      <th>2</th>\n",
       "      <td>B000LQOCH0</td>\n",
       "      <td>\"Delight\" says it all</td>\n",
       "      <td>This is a confection that has been around a fe...</td>\n",
       "    </tr>\n",
       "    <tr>\n",
       "      <th>3</th>\n",
       "      <td>B000UA0QIQ</td>\n",
       "      <td>Cough Medicine</td>\n",
       "      <td>If you are looking for the secret ingredient i...</td>\n",
       "    </tr>\n",
       "    <tr>\n",
       "      <th>4</th>\n",
       "      <td>B006K2ZZ7K</td>\n",
       "      <td>Great taffy</td>\n",
       "      <td>Great taffy at a great price.  There was a wid...</td>\n",
       "    </tr>\n",
       "  </tbody>\n",
       "</table>\n",
       "</div>"
      ],
      "text/plain": [
       "    ProductId                Summary  \\\n",
       "0  B001E4KFG0  Good Quality Dog Food   \n",
       "1  B00813GRG4      Not as Advertised   \n",
       "2  B000LQOCH0  \"Delight\" says it all   \n",
       "3  B000UA0QIQ         Cough Medicine   \n",
       "4  B006K2ZZ7K            Great taffy   \n",
       "\n",
       "                                                Text  \n",
       "0  I have bought several of the Vitality canned d...  \n",
       "1  Product arrived labeled as Jumbo Salted Peanut...  \n",
       "2  This is a confection that has been around a fe...  \n",
       "3  If you are looking for the secret ingredient i...  \n",
       "4  Great taffy at a great price.  There was a wid...  "
      ]
     },
     "execution_count": 4,
     "metadata": {},
     "output_type": "execute_result"
    }
   ],
   "source": [
    "data.head()"
   ]
  },
  {
   "cell_type": "code",
   "execution_count": 5,
   "metadata": {
    "scrolled": true
   },
   "outputs": [
    {
     "data": {
      "text/plain": [
       "\"I love juice and I love carbonated beverages, but it is difficult to see this product having a long retail life.<br /><br />Essentially, this is a good drink that doesn't really do anything well.<br /><br />It doesn't taste good enough to be a juice replacement--and is there really a need for a juice replacement?  It might have limited value in camping situations or during other times where small cans make better travelers.<br /><br />It's not exactly a post-workout recovery drink.  Juice would be better.  Minute Maid juice, for instance, has less sugar and carbohydrates, even though Switch doesn't add any sugar.  And there are plenty of other juices that have more nutrients, including Calcium and other vitamins and supplements, including potassium.  So, it's less healthy than most juices.<br /><br />Switch isn't exactly a diet soda because of the natural sugar content comapared to zero sugar in diet drinks.<br /><br />As a regular alternative to sugared soda, it tastes good, but there is nothing really to distinguish it from other fruit-based sodas.  And, $22 a case, it's more than twice as expensive of sodas that come in bigger cans.<br /><br />So, in the end, Switch is worth a try but likely not something you will habitually buy.\""
      ]
     },
     "execution_count": 5,
     "metadata": {},
     "output_type": "execute_result"
    }
   ],
   "source": [
    "#an example of a text that we will have to analyze\n",
    "data.Text[6745]"
   ]
  },
  {
   "cell_type": "markdown",
   "metadata": {},
   "source": [
    "# Analysis of the dataset"
   ]
  },
  {
   "cell_type": "code",
   "execution_count": 6,
   "metadata": {
    "scrolled": true
   },
   "outputs": [
    {
     "name": "stdout",
     "output_type": "stream",
     "text": [
      "number of unique products: 74258 \n",
      "number of total rows in the dataset: 568454\n"
     ]
    }
   ],
   "source": [
    "print(f'number of unique products: {len(data.ProductId.unique())} \\nnumber of total rows in the dataset: {data.shape[0]}')"
   ]
  },
  {
   "cell_type": "code",
   "execution_count": 7,
   "metadata": {},
   "outputs": [
    {
     "data": {
      "text/html": [
       "<div>\n",
       "<style scoped>\n",
       "    .dataframe tbody tr th:only-of-type {\n",
       "        vertical-align: middle;\n",
       "    }\n",
       "\n",
       "    .dataframe tbody tr th {\n",
       "        vertical-align: top;\n",
       "    }\n",
       "\n",
       "    .dataframe thead th {\n",
       "        text-align: right;\n",
       "    }\n",
       "</style>\n",
       "<table border=\"1\" class=\"dataframe\">\n",
       "  <thead>\n",
       "    <tr style=\"text-align: right;\">\n",
       "      <th></th>\n",
       "      <th>Summary</th>\n",
       "      <th>Text</th>\n",
       "    </tr>\n",
       "    <tr>\n",
       "      <th>ProductId</th>\n",
       "      <th></th>\n",
       "      <th></th>\n",
       "    </tr>\n",
       "  </thead>\n",
       "  <tbody>\n",
       "    <tr>\n",
       "      <th>0006641040</th>\n",
       "      <td>37</td>\n",
       "      <td>37</td>\n",
       "    </tr>\n",
       "    <tr>\n",
       "      <th>141278509X</th>\n",
       "      <td>1</td>\n",
       "      <td>1</td>\n",
       "    </tr>\n",
       "    <tr>\n",
       "      <th>2734888454</th>\n",
       "      <td>2</td>\n",
       "      <td>2</td>\n",
       "    </tr>\n",
       "    <tr>\n",
       "      <th>2841233731</th>\n",
       "      <td>1</td>\n",
       "      <td>1</td>\n",
       "    </tr>\n",
       "    <tr>\n",
       "      <th>7310172001</th>\n",
       "      <td>173</td>\n",
       "      <td>173</td>\n",
       "    </tr>\n",
       "    <tr>\n",
       "      <th>...</th>\n",
       "      <td>...</td>\n",
       "      <td>...</td>\n",
       "    </tr>\n",
       "    <tr>\n",
       "      <th>B009UOFTUI</th>\n",
       "      <td>1</td>\n",
       "      <td>1</td>\n",
       "    </tr>\n",
       "    <tr>\n",
       "      <th>B009UOFU20</th>\n",
       "      <td>1</td>\n",
       "      <td>1</td>\n",
       "    </tr>\n",
       "    <tr>\n",
       "      <th>B009UUS05I</th>\n",
       "      <td>1</td>\n",
       "      <td>1</td>\n",
       "    </tr>\n",
       "    <tr>\n",
       "      <th>B009WSNWC4</th>\n",
       "      <td>1</td>\n",
       "      <td>1</td>\n",
       "    </tr>\n",
       "    <tr>\n",
       "      <th>B009WVB40S</th>\n",
       "      <td>1</td>\n",
       "      <td>1</td>\n",
       "    </tr>\n",
       "  </tbody>\n",
       "</table>\n",
       "<p>74258 rows × 2 columns</p>\n",
       "</div>"
      ],
      "text/plain": [
       "            Summary  Text\n",
       "ProductId                \n",
       "0006641040       37    37\n",
       "141278509X        1     1\n",
       "2734888454        2     2\n",
       "2841233731        1     1\n",
       "7310172001      173   173\n",
       "...             ...   ...\n",
       "B009UOFTUI        1     1\n",
       "B009UOFU20        1     1\n",
       "B009UUS05I        1     1\n",
       "B009WSNWC4        1     1\n",
       "B009WVB40S        1     1\n",
       "\n",
       "[74258 rows x 2 columns]"
      ]
     },
     "execution_count": 7,
     "metadata": {},
     "output_type": "execute_result"
    }
   ],
   "source": [
    "data.groupby('ProductId').count()"
   ]
  },
  {
   "cell_type": "code",
   "execution_count": 8,
   "metadata": {
    "scrolled": true
   },
   "outputs": [
    {
     "name": "stdout",
     "output_type": "stream",
     "text": [
      "<class 'pandas.core.frame.DataFrame'>\n",
      "RangeIndex: 568454 entries, 0 to 568453\n",
      "Data columns (total 3 columns):\n",
      " #   Column     Non-Null Count   Dtype \n",
      "---  ------     --------------   ----- \n",
      " 0   ProductId  568454 non-null  object\n",
      " 1   Summary    568427 non-null  object\n",
      " 2   Text       568454 non-null  object\n",
      "dtypes: object(3)\n",
      "memory usage: 13.0+ MB\n"
     ]
    }
   ],
   "source": [
    "data.info() "
   ]
  },
  {
   "cell_type": "markdown",
   "metadata": {},
   "source": [
    "## 1. Preprocessing"
   ]
  },
  {
   "cell_type": "markdown",
   "metadata": {},
   "source": [
    "The first step in the analysis is the **pre-processing stage**.This  refers to the series of treatments that must be done to the corpus so that it's easier to analyze. The pre-processing part contains the following parts:\n",
    "- **Corpus tokenization**, that is, divide the different texts into individual words.\n",
    "- **Stop words removal**, which are common words (a, the, not, etc) that bring close to no contribution to the semantic meaning of a text\n",
    "- **Noise removal** from the texts. This step will remove anything that can’t be recongnized as a english word, such as words with non ASCII symbols, words together with numbers, etc.\n",
    "- **Stemming**, which reduces a word to it’s root. \n",
    "- **lower case and punctuation removal**"
   ]
  },
  {
   "cell_type": "code",
   "execution_count": 10,
   "metadata": {},
   "outputs": [],
   "source": [
    "def pre_processing_data(text):           \n",
    "    \n",
    "    stop_words = set(stopwords.words('english'))\n",
    "    text = (text.lower()).replace('\\\\n',' ')        #converts to lower case and removes extra space\n",
    "    \n",
    "    text = text.replace(\"\\r\",\"\")\n",
    "    text = text.replace(\"\\n\",\"\")\n",
    "    text = text.replace(\"<br />\",\"\")\n",
    "    \n",
    "    text = text.encode(\"ascii\", \"ignore\")            #removes non ASCII characters\n",
    "    text = text.decode()\n",
    "    \n",
    "    punctuation = RegexpTokenizer(r'\\w+')               #identifies punctuation\n",
    "    tokens = punctuation.tokenize(text)               #create a list of all words\n",
    "\n",
    "    ps = PorterStemmer()\n",
    "\n",
    "    filtered_text = []\n",
    "    for word in tokens:\n",
    "        if word not in stop_words:\n",
    "            filtered_text.append(ps.stem(word))\n",
    "    \n",
    "    return filtered_text"
   ]
  },
  {
   "cell_type": "markdown",
   "metadata": {},
   "source": [
    "#### All the cells below were runned only the FIRST time and then saved into a csv file for easier access"
   ]
  },
  {
   "cell_type": "markdown",
   "metadata": {},
   "source": [
    "`wordlist = data['Text'].apply(lambda text: fn.pre_processing_data(text))`"
   ]
  },
  {
   "cell_type": "markdown",
   "metadata": {},
   "source": [
    "`data['text_words'] = wordlist`"
   ]
  },
  {
   "cell_type": "code",
   "execution_count": 86,
   "metadata": {
    "scrolled": true
   },
   "outputs": [
    {
     "data": {
      "text/html": [
       "<div>\n",
       "<style scoped>\n",
       "    .dataframe tbody tr th:only-of-type {\n",
       "        vertical-align: middle;\n",
       "    }\n",
       "\n",
       "    .dataframe tbody tr th {\n",
       "        vertical-align: top;\n",
       "    }\n",
       "\n",
       "    .dataframe thead th {\n",
       "        text-align: right;\n",
       "    }\n",
       "</style>\n",
       "<table border=\"1\" class=\"dataframe\">\n",
       "  <thead>\n",
       "    <tr style=\"text-align: right;\">\n",
       "      <th></th>\n",
       "      <th>ProductId</th>\n",
       "      <th>Summary</th>\n",
       "      <th>Text</th>\n",
       "      <th>text_words</th>\n",
       "    </tr>\n",
       "  </thead>\n",
       "  <tbody>\n",
       "    <tr>\n",
       "      <th>0</th>\n",
       "      <td>B001E4KFG0</td>\n",
       "      <td>Good Quality Dog Food</td>\n",
       "      <td>I have bought several of the Vitality canned d...</td>\n",
       "      <td>[bought, sever, vital, can, dog, food, product...</td>\n",
       "    </tr>\n",
       "    <tr>\n",
       "      <th>1</th>\n",
       "      <td>B00813GRG4</td>\n",
       "      <td>Not as Advertised</td>\n",
       "      <td>Product arrived labeled as Jumbo Salted Peanut...</td>\n",
       "      <td>[product, arriv, label, jumbo, salt, peanut, p...</td>\n",
       "    </tr>\n",
       "    <tr>\n",
       "      <th>2</th>\n",
       "      <td>B000LQOCH0</td>\n",
       "      <td>\"Delight\" says it all</td>\n",
       "      <td>This is a confection that has been around a fe...</td>\n",
       "      <td>[confect, around, centuri, light, pillowi, cit...</td>\n",
       "    </tr>\n",
       "    <tr>\n",
       "      <th>3</th>\n",
       "      <td>B000UA0QIQ</td>\n",
       "      <td>Cough Medicine</td>\n",
       "      <td>If you are looking for the secret ingredient i...</td>\n",
       "      <td>[look, secret, ingredi, robitussin, believ, fo...</td>\n",
       "    </tr>\n",
       "    <tr>\n",
       "      <th>4</th>\n",
       "      <td>B006K2ZZ7K</td>\n",
       "      <td>Great taffy</td>\n",
       "      <td>Great taffy at a great price.  There was a wid...</td>\n",
       "      <td>[great, taffi, great, price, wide, assort, yum...</td>\n",
       "    </tr>\n",
       "    <tr>\n",
       "      <th>5</th>\n",
       "      <td>B006K2ZZ7K</td>\n",
       "      <td>Nice Taffy</td>\n",
       "      <td>I got a wild hair for taffy and ordered this f...</td>\n",
       "      <td>[got, wild, hair, taffi, order, five, pound, b...</td>\n",
       "    </tr>\n",
       "    <tr>\n",
       "      <th>6</th>\n",
       "      <td>B006K2ZZ7K</td>\n",
       "      <td>Great!  Just as good as the expensive brands!</td>\n",
       "      <td>This saltwater taffy had great flavors and was...</td>\n",
       "      <td>[saltwat, taffi, great, flavor, soft, chewi, c...</td>\n",
       "    </tr>\n",
       "    <tr>\n",
       "      <th>7</th>\n",
       "      <td>B006K2ZZ7K</td>\n",
       "      <td>Wonderful, tasty taffy</td>\n",
       "      <td>This taffy is so good.  It is very soft and ch...</td>\n",
       "      <td>[taffi, good, soft, chewi, flavor, amaz, would...</td>\n",
       "    </tr>\n",
       "    <tr>\n",
       "      <th>8</th>\n",
       "      <td>B000E7L2R4</td>\n",
       "      <td>Yay Barley</td>\n",
       "      <td>Right now I'm mostly just sprouting this so my...</td>\n",
       "      <td>[right, mostli, sprout, cat, eat, grass, love,...</td>\n",
       "    </tr>\n",
       "    <tr>\n",
       "      <th>9</th>\n",
       "      <td>B00171APVA</td>\n",
       "      <td>Healthy Dog Food</td>\n",
       "      <td>This is a very healthy dog food. Good for thei...</td>\n",
       "      <td>[healthi, dog, food, good, digest, also, good,...</td>\n",
       "    </tr>\n",
       "  </tbody>\n",
       "</table>\n",
       "</div>"
      ],
      "text/plain": [
       "    ProductId                                        Summary  \\\n",
       "0  B001E4KFG0                          Good Quality Dog Food   \n",
       "1  B00813GRG4                              Not as Advertised   \n",
       "2  B000LQOCH0                          \"Delight\" says it all   \n",
       "3  B000UA0QIQ                                 Cough Medicine   \n",
       "4  B006K2ZZ7K                                    Great taffy   \n",
       "5  B006K2ZZ7K                                     Nice Taffy   \n",
       "6  B006K2ZZ7K  Great!  Just as good as the expensive brands!   \n",
       "7  B006K2ZZ7K                         Wonderful, tasty taffy   \n",
       "8  B000E7L2R4                                     Yay Barley   \n",
       "9  B00171APVA                               Healthy Dog Food   \n",
       "\n",
       "                                                Text  \\\n",
       "0  I have bought several of the Vitality canned d...   \n",
       "1  Product arrived labeled as Jumbo Salted Peanut...   \n",
       "2  This is a confection that has been around a fe...   \n",
       "3  If you are looking for the secret ingredient i...   \n",
       "4  Great taffy at a great price.  There was a wid...   \n",
       "5  I got a wild hair for taffy and ordered this f...   \n",
       "6  This saltwater taffy had great flavors and was...   \n",
       "7  This taffy is so good.  It is very soft and ch...   \n",
       "8  Right now I'm mostly just sprouting this so my...   \n",
       "9  This is a very healthy dog food. Good for thei...   \n",
       "\n",
       "                                          text_words  \n",
       "0  [bought, sever, vital, can, dog, food, product...  \n",
       "1  [product, arriv, label, jumbo, salt, peanut, p...  \n",
       "2  [confect, around, centuri, light, pillowi, cit...  \n",
       "3  [look, secret, ingredi, robitussin, believ, fo...  \n",
       "4  [great, taffi, great, price, wide, assort, yum...  \n",
       "5  [got, wild, hair, taffi, order, five, pound, b...  \n",
       "6  [saltwat, taffi, great, flavor, soft, chewi, c...  \n",
       "7  [taffi, good, soft, chewi, flavor, amaz, would...  \n",
       "8  [right, mostli, sprout, cat, eat, grass, love,...  \n",
       "9  [healthi, dog, food, good, digest, also, good,...  "
      ]
     },
     "execution_count": 86,
     "metadata": {},
     "output_type": "execute_result"
    }
   ],
   "source": [
    "data.head(10)"
   ]
  },
  {
   "cell_type": "markdown",
   "metadata": {},
   "source": [
    "`data.to_csv('clean_dataset.csv')`"
   ]
  },
  {
   "cell_type": "code",
   "execution_count": 3,
   "metadata": {},
   "outputs": [],
   "source": [
    "#to import directly the filtered dataset instead of pre-process everything again\n",
    "data = pd.read_csv('clean_dataset.csv')\n",
    "data.drop('Unnamed: 0',axis=1,inplace=True)\n",
    "\n",
    "#to mantain the format of text_words as a list and not as a string\n",
    "data['text_words'] = data['text_words'].map(ast.literal_eval)"
   ]
  },
  {
   "cell_type": "markdown",
   "metadata": {},
   "source": [
    "## 2. Create a vocabulary with all the unique words from text_words\n",
    "In this step we are going to take into account the last column of the dataset that contains the pre-processed words of each review. From this list of words we are going to create a useful dictionary that maps each unique term into an integer"
   ]
  },
  {
   "cell_type": "code",
   "execution_count": 13,
   "metadata": {},
   "outputs": [],
   "source": [
    "'''this function takes in input a whole dataframe and returns a dictonary \n",
    "   where the keys are all the unique words found in the column 'text_words'\n",
    "   of the dataframe, and for values an identificative number'''\n",
    "\n",
    "def build_dictionary(df):                            \n",
    "\n",
    "    vocabulary_list = []\n",
    "    vocabs_in_reviews = defaultdict(list)\n",
    "\n",
    "    for i in range(len(df)):\n",
    "\n",
    "        text_filtered = df['text_words'][i]\n",
    "        \n",
    "        vocabs_review_i=set()\n",
    "        for word in text_filtered:\n",
    "            vocabs_review_i.add(word)\n",
    "\n",
    "        vocabulary_list.append(vocabs_review_i)\n",
    "        vocabs_in_reviews[i]=list(vocabs_review_i)\n",
    "\n",
    "    bag_of_words = set.union(*vocabulary_list)\n",
    "    \n",
    "    dictionary = {}\n",
    "    for num, word in enumerate(bag_of_words):\n",
    "        dictionary[word] = num\n",
    "    \n",
    "    return dictionary"
   ]
  },
  {
   "cell_type": "markdown",
   "metadata": {},
   "source": [
    "`dictionary = build_dictionary(data)`   -    to build"
   ]
  },
  {
   "cell_type": "markdown",
   "metadata": {},
   "source": [
    "`save_dict(dictionary,'dictionary')` - to save"
   ]
  },
  {
   "cell_type": "code",
   "execution_count": 4,
   "metadata": {},
   "outputs": [],
   "source": [
    "dictionary = load_obj('dictionary')   #to load it back"
   ]
  },
  {
   "cell_type": "code",
   "execution_count": 15,
   "metadata": {},
   "outputs": [
    {
     "data": {
      "text/plain": [
       "109234"
      ]
     },
     "execution_count": 15,
     "metadata": {},
     "output_type": "execute_result"
    }
   ],
   "source": [
    "len(dictionary)"
   ]
  },
  {
   "cell_type": "markdown",
   "metadata": {},
   "source": [
    "## 3. For every unique product ID combine the list of words from different reviews together \n",
    "We noticed in our firts analysis that the number of unique products is much smaller than the number of rows in our dataframe. We so concluded that there were different reviews written by different users that refferred to the same exact product. We decided to group all these reviews together by creating a dictionary that will be saved and then recalled as **reviews_per_product** that has for:\n",
    "- **keys** the product ID\n",
    "- **values** a list of pre-processed words from all the different reviews of the same product"
   ]
  },
  {
   "cell_type": "markdown",
   "metadata": {},
   "source": [
    "We will, as first thing, create two different lists: one that contains all the productsID of each row of the original dataset, and one, more important, that contains only the ID's of the unique products"
   ]
  },
  {
   "cell_type": "code",
   "execution_count": 5,
   "metadata": {},
   "outputs": [],
   "source": [
    "products = list([data.ProductId[i] for i in range(len(data))])\n",
    "unique_products = list(dict.fromkeys(products))"
   ]
  },
  {
   "cell_type": "code",
   "execution_count": 6,
   "metadata": {},
   "outputs": [
    {
     "name": "stdout",
     "output_type": "stream",
     "text": [
      "568454\n",
      "74258\n"
     ]
    }
   ],
   "source": [
    "print(len(products))\n",
    "print(len(unique_products))"
   ]
  },
  {
   "cell_type": "code",
   "execution_count": null,
   "metadata": {},
   "outputs": [],
   "source": [
    "def combine_reviews_for_products(unique_products, data)\n",
    "\n",
    "    new_data = dict.fromkeys(unique_products)\n",
    "\n",
    "    for product in unique_products:\n",
    "        index = (np.where(data['ProductId']==product))[0].tolist()\n",
    "\n",
    "        reviews = []\n",
    "        for i in index:\n",
    "            text = data['text_words'][i]\n",
    "            reviews += text\n",
    "\n",
    "        new_data[product] = reviews\n",
    "        \n",
    "    return new_data"
   ]
  },
  {
   "cell_type": "markdown",
   "metadata": {},
   "source": [
    "`new_data = fn.combine_reviews_for_products(unique_products, data)` - to build"
   ]
  },
  {
   "cell_type": "markdown",
   "metadata": {},
   "source": [
    "`save_dict(new_data,'new_data')` - to save"
   ]
  },
  {
   "cell_type": "code",
   "execution_count": 7,
   "metadata": {},
   "outputs": [],
   "source": [
    "reviews_per_product = load_obj('new_data') #to load"
   ]
  },
  {
   "cell_type": "markdown",
   "metadata": {},
   "source": [
    "Going on with our initial analysis of the dataset that aims to prepare a final output that will be convenient for theimplementation of the K-Means algorithm, we wanto the calculate the frequence of each word for each productID"
   ]
  },
  {
   "cell_type": "code",
   "execution_count": 8,
   "metadata": {},
   "outputs": [],
   "source": [
    "frequency_of_word = []\n",
    "for key, item in reviews_per_product.items():\n",
    "    frequency_of_words = Counter(item)\n",
    "    frequency_of_word.append(frequency_of_words)"
   ]
  },
  {
   "cell_type": "markdown",
   "metadata": {
    "scrolled": true
   },
   "source": [
    "And then, we will use it to obtain the absolute frequence of each unique word, that we will savein a dictionary called **frequencies**"
   ]
  },
  {
   "cell_type": "code",
   "execution_count": 44,
   "metadata": {},
   "outputs": [],
   "source": [
    "def frequency(vocabulary,frequency_of_word):\n",
    "    f = defaultdict()\n",
    "    for word in vocabulary.keys():\n",
    "        f[word] = sum(frequency_of_word[i][word] for i in range(len(frequency_of_word)) if word in frequency_of_word[i])\n",
    "    return f   "
   ]
  },
  {
   "cell_type": "markdown",
   "metadata": {},
   "source": [
    "`freq = fn.frequency(dictionary,frequency_of_word)`"
   ]
  },
  {
   "cell_type": "markdown",
   "metadata": {},
   "source": [
    "`save_dict(freq,'frequencies')` - to save"
   ]
  },
  {
   "cell_type": "code",
   "execution_count": 9,
   "metadata": {},
   "outputs": [],
   "source": [
    "frequencies = load_obj('frequencies') #to load"
   ]
  },
  {
   "cell_type": "markdown",
   "metadata": {},
   "source": [
    "Now we have all the elements to make some considerations: we noticed that, from the original vocabulary, we have **109234 unique words**. For the implementation of the algorithm, these words are too many. We want to find a way to reduce the number of words to consider by selecting only the ones that will be actually significant in the clusterization of the products"
   ]
  },
  {
   "cell_type": "code",
   "execution_count": 13,
   "metadata": {},
   "outputs": [
    {
     "name": "stdout",
     "output_type": "stream",
     "text": [
      "max:  288508\n",
      "min:  1\n"
     ]
    }
   ],
   "source": [
    "print('max: ',max(list(frequencies.values())))\n",
    "print('min: ',min(list(frequencies.values())))"
   ]
  },
  {
   "cell_type": "markdown",
   "metadata": {},
   "source": [
    "In order to do so, we first filtered the list of words by removing the one that have a really low frequence (<20) since are words too unusual, technical or maybe they could be wrong words, with spelling mistakes, hence, with no meaning. At the same time we want to remove words. with a very high frequence (>200000) since these words are too common and will not help in dividing the products into similar groups, which is aour final goal."
   ]
  },
  {
   "cell_type": "code",
   "execution_count": 10,
   "metadata": {},
   "outputs": [],
   "source": [
    "def filter_words(frequencies):\n",
    "    \n",
    "    useful_words = []                                 #list that contains all the words that we think are useful for clustering\n",
    "    frequent_words = []                               #list that contains all the words over a certain treshold \n",
    "\n",
    "    for key, value in frequencies.items():\n",
    "        if value > 20 and value < 200000:             #we decided to only consider the words that are inside this range of frewuencies \n",
    "            useful_words.append(key)\n",
    "        elif value > 200000:\n",
    "            frequent_words.append(key)\n",
    "    \n",
    "    return(useful_words, frequent_words)"
   ]
  },
  {
   "cell_type": "code",
   "execution_count": null,
   "metadata": {},
   "outputs": [],
   "source": [
    "output = fn.filter_words(frequencies)\n",
    "useful_words = output[0] \n",
    "frequent_words = output[1]"
   ]
  },
  {
   "cell_type": "code",
   "execution_count": 12,
   "metadata": {},
   "outputs": [],
   "source": [
    "def new_dictionary(useful_words):\n",
    "    \n",
    "    dictionary = defaultdict()\n",
    "    \n",
    "    for i, word in enumerate(useful_words):\n",
    "        dictionary[word] = i\n",
    "    \n",
    "    return dictionary\n",
    "\n",
    "dictionary_filtered = new_dictionary(useful_words)"
   ]
  },
  {
   "cell_type": "markdown",
   "metadata": {},
   "source": [
    "By doing this we will reduce the length of the dictionary that will contain all the different unique words found inside the reviews from `len(dictionary) = 109234 ` to `len(useful_words) = 14783 `"
   ]
  },
  {
   "cell_type": "code",
   "execution_count": 11,
   "metadata": {},
   "outputs": [
    {
     "data": {
      "text/plain": [
       "['product', 'good', 'tast', 'flavor', 'like']"
      ]
     },
     "execution_count": 11,
     "metadata": {},
     "output_type": "execute_result"
    }
   ],
   "source": [
    "frequent_words"
   ]
  },
  {
   "cell_type": "markdown",
   "metadata": {},
   "source": [
    "As we can see above, all the words with very high frequencies are very common words, so they will not be useful in the determination of the cluster in which a certain review will belong."
   ]
  },
  {
   "cell_type": "markdown",
   "metadata": {},
   "source": [
    "## 4. Matrix product/word"
   ]
  },
  {
   "cell_type": "markdown",
   "metadata": {},
   "source": [
    "Now we want to create a matrix that will have the following structure:\n",
    "- each column will represent one word from the list **useful_words**\n",
    "- each row represents a different unique product id\n",
    "\n",
    "Each **cell** of the matrix will represent the frequence of that certain word inside the reviews of that certain product"
   ]
  },
  {
   "cell_type": "code",
   "execution_count": 13,
   "metadata": {
    "scrolled": true
   },
   "outputs": [],
   "source": [
    "matrix = np.zeros((len(unique_products),len(dictionary_filtered)))\n",
    "for i, product in enumerate(unique_products):           #per ogni prodotto con indice i   \n",
    "    for word,j in dictionary_filtered.items():          #per ogni parola con indice j nel dizionario\n",
    "        if word in frequency_of_word[i].keys():         #se la parola si trova nel dizionario di frequenze del prodotto\n",
    "            matrix[i][j] += frequency_of_word[i][word]"
   ]
  },
  {
   "cell_type": "code",
   "execution_count": 14,
   "metadata": {},
   "outputs": [
    {
     "data": {
      "text/plain": [
       "(74258, 14783)"
      ]
     },
     "execution_count": 14,
     "metadata": {},
     "output_type": "execute_result"
    }
   ],
   "source": [
    "matrix.shape"
   ]
  },
  {
   "cell_type": "markdown",
   "metadata": {},
   "source": [
    "## 5. Singular Value Decomposition "
   ]
  },
  {
   "cell_type": "markdown",
   "metadata": {},
   "source": [
    "Now that we have a first reduction of the significat words, we want to apply the **SVD Method** to further reduce them, while, at the same time, we still have a high level of variance explained by those words"
   ]
  },
  {
   "cell_type": "code",
   "execution_count": 16,
   "metadata": {},
   "outputs": [
    {
     "data": {
      "text/plain": [
       "TruncatedSVD(n_components=70, n_iter=3, random_state=42)"
      ]
     },
     "execution_count": 16,
     "metadata": {},
     "output_type": "execute_result"
    }
   ],
   "source": [
    "svd = TruncatedSVD(n_components = 70,n_iter=3, random_state=42)\n",
    "svd.fit(matrix)"
   ]
  },
  {
   "cell_type": "code",
   "execution_count": 17,
   "metadata": {},
   "outputs": [
    {
     "name": "stdout",
     "output_type": "stream",
     "text": [
      "Explained variance of the SVD step: 88%\n"
     ]
    }
   ],
   "source": [
    "explained_variance = svd.explained_variance_ratio_.sum()\n",
    "print(\"Explained variance of the SVD step: {}%\".format(int(explained_variance * 100)))"
   ]
  },
  {
   "cell_type": "code",
   "execution_count": 18,
   "metadata": {
    "scrolled": false
   },
   "outputs": [
    {
     "data": {
      "text/plain": [
       "(70, 14783)"
      ]
     },
     "execution_count": 18,
     "metadata": {},
     "output_type": "execute_result"
    }
   ],
   "source": [
    "svd.components_.shape"
   ]
  },
  {
   "cell_type": "code",
   "execution_count": 19,
   "metadata": {},
   "outputs": [
    {
     "data": {
      "text/plain": [
       "array([14075.00253347,  9413.25706533,  6734.25180712,  5593.33577997,\n",
       "        5539.76174193,  5249.7451622 ,  4378.87047079,  4032.09614654,\n",
       "        3456.09734606,  3418.55319786,  3357.42962126,  3186.46297676,\n",
       "        3067.33956656,  2782.73423913,  2678.44738894,  2519.12922409,\n",
       "        2451.48136771,  2382.96275717,  2339.29002079,  2277.59562985,\n",
       "        2203.46565703,  2132.83968298,  2100.65074326,  2030.53314251,\n",
       "        1994.15609593,  1948.34557693,  1826.07998537,  1824.355337  ,\n",
       "        1742.77630262,  1701.32821232,  1657.0294025 ,  1623.15721698,\n",
       "        1598.5235173 ,  1573.66713731,  1525.36188704,  1493.53634565,\n",
       "        1430.13540424,  1421.36081194,  1415.599189  ,  1363.01988048,\n",
       "        1346.31793295,  1319.0535977 ,  1297.21211006,  1269.78049718,\n",
       "        1258.41771806,  1243.83254532,  1214.95852137,  1202.49387618,\n",
       "        1196.8748276 ,  1176.01779192,  1156.56578966,  1146.07727435,\n",
       "        1124.06907974,  1119.77834732,  1106.03435039,  1090.0859083 ,\n",
       "        1047.24062125,  1043.35840978,  1038.10661499,  1017.6979255 ,\n",
       "        1012.72745646,  1003.59281388,   989.4519044 ,   974.04224052,\n",
       "         967.61971644,   960.54082403,   953.10282779,   944.24666998,\n",
       "         917.31236466,   907.25625173])"
      ]
     },
     "execution_count": 19,
     "metadata": {},
     "output_type": "execute_result"
    }
   ],
   "source": [
    "svd.singular_values_"
   ]
  },
  {
   "cell_type": "code",
   "execution_count": 20,
   "metadata": {
    "scrolled": true
   },
   "outputs": [
    {
     "name": "stdout",
     "output_type": "stream",
     "text": [
      "(70, 14783)\n"
     ]
    },
    {
     "data": {
      "text/plain": [
       "array([2.61458657e-04, 2.08688090e-05, 1.67157890e-02, ...,\n",
       "       1.14701734e-05, 6.34622146e-04, 4.84766436e-05])"
      ]
     },
     "execution_count": 20,
     "metadata": {},
     "output_type": "execute_result"
    }
   ],
   "source": [
    "components = svd.components_\n",
    "features = useful_words\n",
    "components[0]"
   ]
  },
  {
   "cell_type": "code",
   "execution_count": null,
   "metadata": {},
   "outputs": [],
   "source": [
    "relevant_words = fn.get_relevant_words(components, features)\n",
    "print(relevant_words)"
   ]
  },
  {
   "cell_type": "markdown",
   "metadata": {},
   "source": [
    "After selcting the most relevant words out of the total of unique words found, we have to update the dictionary **reviews_per_product** which associates a list of preprocessed words found in all the reviews concerning the same product. The list now should contain only the words that were found in the reviews **AND** are inside the list of **relevant_words** that we extracted"
   ]
  },
  {
   "cell_type": "code",
   "execution_count": 23,
   "metadata": {},
   "outputs": [],
   "source": [
    "#to update the dictionary reviews_per_product\n",
    "for key, value in reviews_per_product.items():\n",
    "    reviews_per_product[key] = [word for word in value if word in relevant_words]"
   ]
  },
  {
   "cell_type": "markdown",
   "metadata": {},
   "source": [
    "We need of course to calculate again the frequency of those words..."
   ]
  },
  {
   "cell_type": "code",
   "execution_count": 24,
   "metadata": {},
   "outputs": [],
   "source": [
    "frequency_of_word = []\n",
    "for key, item in reviews_per_product.items():\n",
    "    frequency_of_words = Counter(item)\n",
    "    frequency_of_word.append(frequency_of_words)"
   ]
  },
  {
   "cell_type": "markdown",
   "metadata": {},
   "source": [
    "... And create a final dictionary that maps those relevant words into integers"
   ]
  },
  {
   "cell_type": "code",
   "execution_count": 25,
   "metadata": {},
   "outputs": [],
   "source": [
    "final_dictionary = fn.new_dictionary(relevant_words) "
   ]
  },
  {
   "cell_type": "markdown",
   "metadata": {},
   "source": [
    "## 6. Calculate Tf-Idf Scores for each word inside the reviews of a product ID"
   ]
  },
  {
   "cell_type": "code",
   "execution_count": 26,
   "metadata": {},
   "outputs": [],
   "source": [
    "def tf(frequency_of_word,review_per_products):      \n",
    " \n",
    "    tfs = []\n",
    "\n",
    "    for i, item in enumerate(reviews_per_product.items()):\n",
    "        text_filtered = reviews_per_product[item[0]]\n",
    "\n",
    "        tf = dict.fromkeys(text_filtered,0)\n",
    "        tot_number_of_words = len(text_filtered)\n",
    "\n",
    "        for key,item in frequency_of_word[i].items():\n",
    "            frequency = item\n",
    "            tf_score = frequency / tot_number_of_words\n",
    "            tf[key] = tf_score    \n",
    "        tfs.append(tf)\n",
    "        \n",
    "    return tfs"
   ]
  },
  {
   "cell_type": "code",
   "execution_count": 27,
   "metadata": {},
   "outputs": [],
   "source": [
    "def idf(relevant_words,frequency_of_word,reviews_per_product):    \n",
    "    \n",
    "    N = len(reviews_per_product)\n",
    "    idf = dict.fromkeys(relevant_words, 0)\n",
    "\n",
    "    #calculate df by looking at the number of documents each token appears\n",
    "    for i in range(len(reviews_per_product)):\n",
    "        for key,item in frequency_of_word[i].items():\n",
    "            if item > 0:\n",
    "                idf[key] += 1\n",
    "                \n",
    "    #calculate idf \n",
    "    for key,item in idf.items():\n",
    "        idf[key] = np.log(N/(item))\n",
    "        \n",
    "    return idf"
   ]
  },
  {
   "cell_type": "code",
   "execution_count": 28,
   "metadata": {},
   "outputs": [],
   "source": [
    "def tf_idf_score(tf_score,idf_score,reviews_per_product):    \n",
    "\n",
    "    tf_idf_scores = []\n",
    "    for i in range(len(reviews_per_product)):\n",
    "        tf_idf_score = {}\n",
    "        for key,item in tf_score[i].items():\n",
    "            tf_idf_score[key] = round(item*idf_score[key],5) \n",
    "        tf_idf_scores.append(tf_idf_score)\n",
    "\n",
    "    return tf_idf_scores"
   ]
  },
  {
   "cell_type": "markdown",
   "metadata": {
    "scrolled": true
   },
   "source": [
    "`tf_score = tf(frequency_of_word,reviews_per_product)`"
   ]
  },
  {
   "cell_type": "markdown",
   "metadata": {},
   "source": [
    "`idf_score = idf(relevant_words,frequency_of_word,reviews_per_product)`"
   ]
  },
  {
   "cell_type": "markdown",
   "metadata": {},
   "source": [
    "`tf_idf_scores = tf_idf_score(tf_score,idf_score,reviews_per_product)`"
   ]
  },
  {
   "cell_type": "markdown",
   "metadata": {},
   "source": [
    "`save_dict(tf_idf_scores,'tf_idf_scores')` - to save"
   ]
  },
  {
   "cell_type": "code",
   "execution_count": null,
   "metadata": {},
   "outputs": [],
   "source": [
    "tf_idf_scores = load_obj('tf_idf_scores')   #to load"
   ]
  },
  {
   "cell_type": "code",
   "execution_count": 33,
   "metadata": {},
   "outputs": [
    {
     "data": {
      "text/plain": [
       "{'bought': 0.10921,\n",
       " 'sever': 0.16207,\n",
       " 'can': 0.22032,\n",
       " 'dog': 0.19854,\n",
       " 'food': 0.11283,\n",
       " 'found': 0.11182,\n",
       " 'qualiti': 0.13776,\n",
       " 'look': 0.10748,\n",
       " 'meat': 0.22029,\n",
       " 'smell': 0.17404,\n",
       " 'better': 0.20642}"
      ]
     },
     "execution_count": 33,
     "metadata": {},
     "output_type": "execute_result"
    }
   ],
   "source": [
    "#an example of the final output\n",
    "tf_idf_scores[0]"
   ]
  },
  {
   "cell_type": "markdown",
   "metadata": {},
   "source": [
    "## 7. Creation of the final dataframe that consider the TF-IDF scores and will be used for the implementation of K-Means :\n",
    "We will first initialize a matrix that will have as many rows as the number of unique product ID's that we have and as many columns as the number of relevant words that we found.\n",
    "\n",
    "For each product we will assign a score to each word:\n",
    "- 0 if the word is not found inside the list of words of the reviews of that product\n",
    "- tf-idf score of that word otherwise"
   ]
  },
  {
   "cell_type": "code",
   "execution_count": 34,
   "metadata": {},
   "outputs": [],
   "source": [
    "n = len(unique_products)\n",
    "m = len(relevant_words)\n",
    "\n",
    "product_vector = np.zeros((n,m))        #matrix that has for each unique productID (row), all the scores for each word in\n",
    "                                        #the final_dictionary (columns): 0 if the word is not present, tf-idf score otherwise\n",
    "\n",
    "for i in range(n):                                   #for every productID\n",
    "    for j,word in enumerate(tf_idf_scores[i]):       #for every word in his list of review words         \n",
    "            product_vector[i][final_dictionary[word]] = tf_idf_scores[i][word]      #add to that word column of that product                                                                                #its tf-idf score \n",
    "                "
   ]
  },
  {
   "cell_type": "code",
   "execution_count": 35,
   "metadata": {
    "scrolled": false
   },
   "outputs": [
    {
     "name": "stdout",
     "output_type": "stream",
     "text": [
      "[  9  12 155 176 204 262 283 289 337 400 439] \n",
      "\n",
      "qualiti\n",
      "found\n",
      "look\n",
      "meat\n",
      "dog\n",
      "can\n",
      "bought\n",
      "food\n",
      "better\n",
      "sever\n",
      "smell\n",
      "\n",
      " ['bought', 'sever', 'can', 'dog', 'food', 'found', 'qualiti', 'look', 'meat', 'smell', 'better', 'better']\n"
     ]
    }
   ],
   "source": [
    "#trial to see if the above operation worked\n",
    "\n",
    "indices = (np.where(product_vector[0] != 0))[0]\n",
    "print(indices,'\\n')\n",
    "\n",
    "for elem in indices:\n",
    "    for key in final_dictionary.keys():\n",
    "        if final_dictionary[key] == elem:\n",
    "            print(key)\n",
    "\n",
    "print('\\n',reviews_per_product[unique_products[0]])           "
   ]
  },
  {
   "cell_type": "markdown",
   "metadata": {},
   "source": [
    "Finally, we can convert the result into a dataframe:"
   ]
  },
  {
   "cell_type": "code",
   "execution_count": 36,
   "metadata": {
    "scrolled": false
   },
   "outputs": [
    {
     "data": {
      "text/html": [
       "<div>\n",
       "<style scoped>\n",
       "    .dataframe tbody tr th:only-of-type {\n",
       "        vertical-align: middle;\n",
       "    }\n",
       "\n",
       "    .dataframe tbody tr th {\n",
       "        vertical-align: top;\n",
       "    }\n",
       "\n",
       "    .dataframe thead th {\n",
       "        text-align: right;\n",
       "    }\n",
       "</style>\n",
       "<table border=\"1\" class=\"dataframe\">\n",
       "  <thead>\n",
       "    <tr style=\"text-align: right;\">\n",
       "      <th></th>\n",
       "      <th>said</th>\n",
       "      <th>easi</th>\n",
       "      <th>keep</th>\n",
       "      <th>find</th>\n",
       "      <th>box</th>\n",
       "      <th>nut</th>\n",
       "      <th>powder</th>\n",
       "      <th>anyth</th>\n",
       "      <th>test</th>\n",
       "      <th>qualiti</th>\n",
       "      <th>...</th>\n",
       "      <th>actual</th>\n",
       "      <th>definit</th>\n",
       "      <th>packag</th>\n",
       "      <th>worth</th>\n",
       "      <th>french</th>\n",
       "      <th>treat</th>\n",
       "      <th>gener</th>\n",
       "      <th>plu</th>\n",
       "      <th>meal</th>\n",
       "      <th>also</th>\n",
       "    </tr>\n",
       "  </thead>\n",
       "  <tbody>\n",
       "    <tr>\n",
       "      <th>B001E4KFG0</th>\n",
       "      <td>0.0</td>\n",
       "      <td>0.0</td>\n",
       "      <td>0.0</td>\n",
       "      <td>0.00000</td>\n",
       "      <td>0.0</td>\n",
       "      <td>0.00000</td>\n",
       "      <td>0.00000</td>\n",
       "      <td>0.00000</td>\n",
       "      <td>0.0</td>\n",
       "      <td>0.13776</td>\n",
       "      <td>...</td>\n",
       "      <td>0.00000</td>\n",
       "      <td>0.00000</td>\n",
       "      <td>0.0</td>\n",
       "      <td>0.00000</td>\n",
       "      <td>0.0</td>\n",
       "      <td>0.00000</td>\n",
       "      <td>0.00000</td>\n",
       "      <td>0.0</td>\n",
       "      <td>0.0</td>\n",
       "      <td>0.00000</td>\n",
       "    </tr>\n",
       "    <tr>\n",
       "      <th>B00813GRG4</th>\n",
       "      <td>0.0</td>\n",
       "      <td>0.0</td>\n",
       "      <td>0.0</td>\n",
       "      <td>0.00000</td>\n",
       "      <td>0.0</td>\n",
       "      <td>0.00000</td>\n",
       "      <td>0.00000</td>\n",
       "      <td>0.00000</td>\n",
       "      <td>0.0</td>\n",
       "      <td>0.00000</td>\n",
       "      <td>...</td>\n",
       "      <td>0.22102</td>\n",
       "      <td>0.00000</td>\n",
       "      <td>0.0</td>\n",
       "      <td>0.00000</td>\n",
       "      <td>0.0</td>\n",
       "      <td>0.00000</td>\n",
       "      <td>0.00000</td>\n",
       "      <td>0.0</td>\n",
       "      <td>0.0</td>\n",
       "      <td>0.00000</td>\n",
       "    </tr>\n",
       "    <tr>\n",
       "      <th>B000LQOCH0</th>\n",
       "      <td>0.0</td>\n",
       "      <td>0.0</td>\n",
       "      <td>0.0</td>\n",
       "      <td>0.00000</td>\n",
       "      <td>0.0</td>\n",
       "      <td>0.23263</td>\n",
       "      <td>0.22212</td>\n",
       "      <td>0.00000</td>\n",
       "      <td>0.0</td>\n",
       "      <td>0.00000</td>\n",
       "      <td>...</td>\n",
       "      <td>0.00000</td>\n",
       "      <td>0.00000</td>\n",
       "      <td>0.0</td>\n",
       "      <td>0.00000</td>\n",
       "      <td>0.0</td>\n",
       "      <td>0.32101</td>\n",
       "      <td>0.00000</td>\n",
       "      <td>0.0</td>\n",
       "      <td>0.0</td>\n",
       "      <td>0.00000</td>\n",
       "    </tr>\n",
       "    <tr>\n",
       "      <th>B000UA0QIQ</th>\n",
       "      <td>0.0</td>\n",
       "      <td>0.0</td>\n",
       "      <td>0.0</td>\n",
       "      <td>0.00000</td>\n",
       "      <td>0.0</td>\n",
       "      <td>0.00000</td>\n",
       "      <td>0.00000</td>\n",
       "      <td>0.00000</td>\n",
       "      <td>0.0</td>\n",
       "      <td>0.00000</td>\n",
       "      <td>...</td>\n",
       "      <td>0.00000</td>\n",
       "      <td>0.00000</td>\n",
       "      <td>0.0</td>\n",
       "      <td>0.00000</td>\n",
       "      <td>0.0</td>\n",
       "      <td>0.00000</td>\n",
       "      <td>0.00000</td>\n",
       "      <td>0.0</td>\n",
       "      <td>0.0</td>\n",
       "      <td>0.00000</td>\n",
       "    </tr>\n",
       "    <tr>\n",
       "      <th>B006K2ZZ7K</th>\n",
       "      <td>0.0</td>\n",
       "      <td>0.0</td>\n",
       "      <td>0.0</td>\n",
       "      <td>0.00000</td>\n",
       "      <td>0.0</td>\n",
       "      <td>0.00000</td>\n",
       "      <td>0.00000</td>\n",
       "      <td>0.00000</td>\n",
       "      <td>0.0</td>\n",
       "      <td>0.00000</td>\n",
       "      <td>...</td>\n",
       "      <td>0.00000</td>\n",
       "      <td>0.04049</td>\n",
       "      <td>0.0</td>\n",
       "      <td>0.00000</td>\n",
       "      <td>0.0</td>\n",
       "      <td>0.04377</td>\n",
       "      <td>0.00000</td>\n",
       "      <td>0.0</td>\n",
       "      <td>0.0</td>\n",
       "      <td>0.00000</td>\n",
       "    </tr>\n",
       "    <tr>\n",
       "      <th>...</th>\n",
       "      <td>...</td>\n",
       "      <td>...</td>\n",
       "      <td>...</td>\n",
       "      <td>...</td>\n",
       "      <td>...</td>\n",
       "      <td>...</td>\n",
       "      <td>...</td>\n",
       "      <td>...</td>\n",
       "      <td>...</td>\n",
       "      <td>...</td>\n",
       "      <td>...</td>\n",
       "      <td>...</td>\n",
       "      <td>...</td>\n",
       "      <td>...</td>\n",
       "      <td>...</td>\n",
       "      <td>...</td>\n",
       "      <td>...</td>\n",
       "      <td>...</td>\n",
       "      <td>...</td>\n",
       "      <td>...</td>\n",
       "      <td>...</td>\n",
       "    </tr>\n",
       "    <tr>\n",
       "      <th>B000H7K114</th>\n",
       "      <td>0.0</td>\n",
       "      <td>0.0</td>\n",
       "      <td>0.0</td>\n",
       "      <td>0.00000</td>\n",
       "      <td>0.0</td>\n",
       "      <td>0.00000</td>\n",
       "      <td>0.00000</td>\n",
       "      <td>0.00000</td>\n",
       "      <td>0.0</td>\n",
       "      <td>0.00000</td>\n",
       "      <td>...</td>\n",
       "      <td>0.00000</td>\n",
       "      <td>0.00000</td>\n",
       "      <td>0.0</td>\n",
       "      <td>0.00000</td>\n",
       "      <td>0.0</td>\n",
       "      <td>0.00000</td>\n",
       "      <td>0.00000</td>\n",
       "      <td>0.0</td>\n",
       "      <td>0.0</td>\n",
       "      <td>0.00000</td>\n",
       "    </tr>\n",
       "    <tr>\n",
       "      <th>B001EO7N10</th>\n",
       "      <td>0.0</td>\n",
       "      <td>0.0</td>\n",
       "      <td>0.0</td>\n",
       "      <td>0.02289</td>\n",
       "      <td>0.0</td>\n",
       "      <td>0.00000</td>\n",
       "      <td>0.02866</td>\n",
       "      <td>0.02062</td>\n",
       "      <td>0.0</td>\n",
       "      <td>0.00000</td>\n",
       "      <td>...</td>\n",
       "      <td>0.01901</td>\n",
       "      <td>0.00000</td>\n",
       "      <td>0.0</td>\n",
       "      <td>0.00000</td>\n",
       "      <td>0.0</td>\n",
       "      <td>0.00000</td>\n",
       "      <td>0.00000</td>\n",
       "      <td>0.0</td>\n",
       "      <td>0.0</td>\n",
       "      <td>0.01204</td>\n",
       "    </tr>\n",
       "    <tr>\n",
       "      <th>B003S1WTCU</th>\n",
       "      <td>0.0</td>\n",
       "      <td>0.0</td>\n",
       "      <td>0.0</td>\n",
       "      <td>0.00000</td>\n",
       "      <td>0.0</td>\n",
       "      <td>0.00000</td>\n",
       "      <td>0.00000</td>\n",
       "      <td>0.00000</td>\n",
       "      <td>0.0</td>\n",
       "      <td>0.00000</td>\n",
       "      <td>...</td>\n",
       "      <td>0.00000</td>\n",
       "      <td>0.00000</td>\n",
       "      <td>0.0</td>\n",
       "      <td>0.10245</td>\n",
       "      <td>0.0</td>\n",
       "      <td>0.00000</td>\n",
       "      <td>0.00000</td>\n",
       "      <td>0.0</td>\n",
       "      <td>0.0</td>\n",
       "      <td>0.00000</td>\n",
       "    </tr>\n",
       "    <tr>\n",
       "      <th>B004I613EE</th>\n",
       "      <td>0.0</td>\n",
       "      <td>0.0</td>\n",
       "      <td>0.0</td>\n",
       "      <td>0.00000</td>\n",
       "      <td>0.0</td>\n",
       "      <td>0.00000</td>\n",
       "      <td>0.00000</td>\n",
       "      <td>0.00000</td>\n",
       "      <td>0.0</td>\n",
       "      <td>0.00000</td>\n",
       "      <td>...</td>\n",
       "      <td>0.00000</td>\n",
       "      <td>0.00000</td>\n",
       "      <td>0.0</td>\n",
       "      <td>0.00000</td>\n",
       "      <td>0.0</td>\n",
       "      <td>0.14093</td>\n",
       "      <td>0.00000</td>\n",
       "      <td>0.0</td>\n",
       "      <td>0.0</td>\n",
       "      <td>0.02730</td>\n",
       "    </tr>\n",
       "    <tr>\n",
       "      <th>B001LR2CU2</th>\n",
       "      <td>0.0</td>\n",
       "      <td>0.0</td>\n",
       "      <td>0.0</td>\n",
       "      <td>0.00000</td>\n",
       "      <td>0.0</td>\n",
       "      <td>0.00000</td>\n",
       "      <td>0.00000</td>\n",
       "      <td>0.00000</td>\n",
       "      <td>0.0</td>\n",
       "      <td>0.00000</td>\n",
       "      <td>...</td>\n",
       "      <td>0.00000</td>\n",
       "      <td>0.00000</td>\n",
       "      <td>0.0</td>\n",
       "      <td>0.00000</td>\n",
       "      <td>0.0</td>\n",
       "      <td>0.00000</td>\n",
       "      <td>0.63154</td>\n",
       "      <td>0.0</td>\n",
       "      <td>0.0</td>\n",
       "      <td>0.00000</td>\n",
       "    </tr>\n",
       "  </tbody>\n",
       "</table>\n",
       "<p>74258 rows × 458 columns</p>\n",
       "</div>"
      ],
      "text/plain": [
       "            said  easi  keep     find  box      nut   powder    anyth  test  \\\n",
       "B001E4KFG0   0.0   0.0   0.0  0.00000  0.0  0.00000  0.00000  0.00000   0.0   \n",
       "B00813GRG4   0.0   0.0   0.0  0.00000  0.0  0.00000  0.00000  0.00000   0.0   \n",
       "B000LQOCH0   0.0   0.0   0.0  0.00000  0.0  0.23263  0.22212  0.00000   0.0   \n",
       "B000UA0QIQ   0.0   0.0   0.0  0.00000  0.0  0.00000  0.00000  0.00000   0.0   \n",
       "B006K2ZZ7K   0.0   0.0   0.0  0.00000  0.0  0.00000  0.00000  0.00000   0.0   \n",
       "...          ...   ...   ...      ...  ...      ...      ...      ...   ...   \n",
       "B000H7K114   0.0   0.0   0.0  0.00000  0.0  0.00000  0.00000  0.00000   0.0   \n",
       "B001EO7N10   0.0   0.0   0.0  0.02289  0.0  0.00000  0.02866  0.02062   0.0   \n",
       "B003S1WTCU   0.0   0.0   0.0  0.00000  0.0  0.00000  0.00000  0.00000   0.0   \n",
       "B004I613EE   0.0   0.0   0.0  0.00000  0.0  0.00000  0.00000  0.00000   0.0   \n",
       "B001LR2CU2   0.0   0.0   0.0  0.00000  0.0  0.00000  0.00000  0.00000   0.0   \n",
       "\n",
       "            qualiti  ...   actual  definit  packag    worth  french    treat  \\\n",
       "B001E4KFG0  0.13776  ...  0.00000  0.00000     0.0  0.00000     0.0  0.00000   \n",
       "B00813GRG4  0.00000  ...  0.22102  0.00000     0.0  0.00000     0.0  0.00000   \n",
       "B000LQOCH0  0.00000  ...  0.00000  0.00000     0.0  0.00000     0.0  0.32101   \n",
       "B000UA0QIQ  0.00000  ...  0.00000  0.00000     0.0  0.00000     0.0  0.00000   \n",
       "B006K2ZZ7K  0.00000  ...  0.00000  0.04049     0.0  0.00000     0.0  0.04377   \n",
       "...             ...  ...      ...      ...     ...      ...     ...      ...   \n",
       "B000H7K114  0.00000  ...  0.00000  0.00000     0.0  0.00000     0.0  0.00000   \n",
       "B001EO7N10  0.00000  ...  0.01901  0.00000     0.0  0.00000     0.0  0.00000   \n",
       "B003S1WTCU  0.00000  ...  0.00000  0.00000     0.0  0.10245     0.0  0.00000   \n",
       "B004I613EE  0.00000  ...  0.00000  0.00000     0.0  0.00000     0.0  0.14093   \n",
       "B001LR2CU2  0.00000  ...  0.00000  0.00000     0.0  0.00000     0.0  0.00000   \n",
       "\n",
       "              gener  plu  meal     also  \n",
       "B001E4KFG0  0.00000  0.0   0.0  0.00000  \n",
       "B00813GRG4  0.00000  0.0   0.0  0.00000  \n",
       "B000LQOCH0  0.00000  0.0   0.0  0.00000  \n",
       "B000UA0QIQ  0.00000  0.0   0.0  0.00000  \n",
       "B006K2ZZ7K  0.00000  0.0   0.0  0.00000  \n",
       "...             ...  ...   ...      ...  \n",
       "B000H7K114  0.00000  0.0   0.0  0.00000  \n",
       "B001EO7N10  0.00000  0.0   0.0  0.01204  \n",
       "B003S1WTCU  0.00000  0.0   0.0  0.00000  \n",
       "B004I613EE  0.00000  0.0   0.0  0.02730  \n",
       "B001LR2CU2  0.63154  0.0   0.0  0.00000  \n",
       "\n",
       "[74258 rows x 458 columns]"
      ]
     },
     "execution_count": 36,
     "metadata": {},
     "output_type": "execute_result"
    }
   ],
   "source": [
    "d = pd.DataFrame(product_vector, index = unique_products, columns = relevant_words)\n",
    "d"
   ]
  },
  {
   "cell_type": "markdown",
   "metadata": {},
   "source": [
    "And we will save it so that we can import only this final step since it contains everything we need for the implementation of the K-Means Algorithm"
   ]
  },
  {
   "cell_type": "code",
   "execution_count": 41,
   "metadata": {},
   "outputs": [],
   "source": [
    "d.to_csv('tf_idf_scores_dataframe.csv')"
   ]
  },
  {
   "cell_type": "markdown",
   "metadata": {},
   "source": [
    "# K-means"
   ]
  },
  {
   "cell_type": "code",
   "execution_count": 8,
   "metadata": {
    "scrolled": true
   },
   "outputs": [
    {
     "data": {
      "text/html": [
       "<div>\n",
       "<style scoped>\n",
       "    .dataframe tbody tr th:only-of-type {\n",
       "        vertical-align: middle;\n",
       "    }\n",
       "\n",
       "    .dataframe tbody tr th {\n",
       "        vertical-align: top;\n",
       "    }\n",
       "\n",
       "    .dataframe thead th {\n",
       "        text-align: right;\n",
       "    }\n",
       "</style>\n",
       "<table border=\"1\" class=\"dataframe\">\n",
       "  <thead>\n",
       "    <tr style=\"text-align: right;\">\n",
       "      <th></th>\n",
       "      <th>sweet</th>\n",
       "      <th>bowl</th>\n",
       "      <th>favorit</th>\n",
       "      <th>water</th>\n",
       "      <th>bottom</th>\n",
       "      <th>top</th>\n",
       "      <th>name</th>\n",
       "      <th>soda</th>\n",
       "      <th>say</th>\n",
       "      <th>wast</th>\n",
       "      <th>...</th>\n",
       "      <th>etc</th>\n",
       "      <th>run</th>\n",
       "      <th>pay</th>\n",
       "      <th>green</th>\n",
       "      <th>realli</th>\n",
       "      <th>grain</th>\n",
       "      <th>test</th>\n",
       "      <th>got</th>\n",
       "      <th>pill</th>\n",
       "      <th>differ</th>\n",
       "    </tr>\n",
       "    <tr>\n",
       "      <th>Unnamed: 0</th>\n",
       "      <th></th>\n",
       "      <th></th>\n",
       "      <th></th>\n",
       "      <th></th>\n",
       "      <th></th>\n",
       "      <th></th>\n",
       "      <th></th>\n",
       "      <th></th>\n",
       "      <th></th>\n",
       "      <th></th>\n",
       "      <th></th>\n",
       "      <th></th>\n",
       "      <th></th>\n",
       "      <th></th>\n",
       "      <th></th>\n",
       "      <th></th>\n",
       "      <th></th>\n",
       "      <th></th>\n",
       "      <th></th>\n",
       "      <th></th>\n",
       "      <th></th>\n",
       "    </tr>\n",
       "  </thead>\n",
       "  <tbody>\n",
       "    <tr>\n",
       "      <th>B001E4KFG0</th>\n",
       "      <td>0.0</td>\n",
       "      <td>0.0</td>\n",
       "      <td>0.00000</td>\n",
       "      <td>0.0</td>\n",
       "      <td>0.0</td>\n",
       "      <td>0.0</td>\n",
       "      <td>0.0</td>\n",
       "      <td>0.00000</td>\n",
       "      <td>0.0</td>\n",
       "      <td>0.0</td>\n",
       "      <td>...</td>\n",
       "      <td>0.00000</td>\n",
       "      <td>0.0</td>\n",
       "      <td>0.0</td>\n",
       "      <td>0.0</td>\n",
       "      <td>0.0</td>\n",
       "      <td>0.0</td>\n",
       "      <td>0.0</td>\n",
       "      <td>0.00000</td>\n",
       "      <td>0.0</td>\n",
       "      <td>0.0</td>\n",
       "    </tr>\n",
       "    <tr>\n",
       "      <th>B00813GRG4</th>\n",
       "      <td>0.0</td>\n",
       "      <td>0.0</td>\n",
       "      <td>0.00000</td>\n",
       "      <td>0.0</td>\n",
       "      <td>0.0</td>\n",
       "      <td>0.0</td>\n",
       "      <td>0.0</td>\n",
       "      <td>0.00000</td>\n",
       "      <td>0.0</td>\n",
       "      <td>0.0</td>\n",
       "      <td>...</td>\n",
       "      <td>0.00000</td>\n",
       "      <td>0.0</td>\n",
       "      <td>0.0</td>\n",
       "      <td>0.0</td>\n",
       "      <td>0.0</td>\n",
       "      <td>0.0</td>\n",
       "      <td>0.0</td>\n",
       "      <td>0.00000</td>\n",
       "      <td>0.0</td>\n",
       "      <td>0.0</td>\n",
       "    </tr>\n",
       "    <tr>\n",
       "      <th>B000LQOCH0</th>\n",
       "      <td>0.0</td>\n",
       "      <td>0.0</td>\n",
       "      <td>0.00000</td>\n",
       "      <td>0.0</td>\n",
       "      <td>0.0</td>\n",
       "      <td>0.0</td>\n",
       "      <td>0.0</td>\n",
       "      <td>0.00000</td>\n",
       "      <td>0.0</td>\n",
       "      <td>0.0</td>\n",
       "      <td>...</td>\n",
       "      <td>0.00000</td>\n",
       "      <td>0.0</td>\n",
       "      <td>0.0</td>\n",
       "      <td>0.0</td>\n",
       "      <td>0.0</td>\n",
       "      <td>0.0</td>\n",
       "      <td>0.0</td>\n",
       "      <td>0.00000</td>\n",
       "      <td>0.0</td>\n",
       "      <td>0.0</td>\n",
       "    </tr>\n",
       "    <tr>\n",
       "      <th>B000UA0QIQ</th>\n",
       "      <td>0.0</td>\n",
       "      <td>0.0</td>\n",
       "      <td>0.00000</td>\n",
       "      <td>0.0</td>\n",
       "      <td>0.0</td>\n",
       "      <td>0.0</td>\n",
       "      <td>0.0</td>\n",
       "      <td>0.39439</td>\n",
       "      <td>0.0</td>\n",
       "      <td>0.0</td>\n",
       "      <td>...</td>\n",
       "      <td>0.00000</td>\n",
       "      <td>0.0</td>\n",
       "      <td>0.0</td>\n",
       "      <td>0.0</td>\n",
       "      <td>0.0</td>\n",
       "      <td>0.0</td>\n",
       "      <td>0.0</td>\n",
       "      <td>0.16986</td>\n",
       "      <td>0.0</td>\n",
       "      <td>0.0</td>\n",
       "    </tr>\n",
       "    <tr>\n",
       "      <th>B006K2ZZ7K</th>\n",
       "      <td>0.0</td>\n",
       "      <td>0.0</td>\n",
       "      <td>0.03439</td>\n",
       "      <td>0.0</td>\n",
       "      <td>0.0</td>\n",
       "      <td>0.0</td>\n",
       "      <td>0.0</td>\n",
       "      <td>0.00000</td>\n",
       "      <td>0.0</td>\n",
       "      <td>0.0</td>\n",
       "      <td>...</td>\n",
       "      <td>0.05352</td>\n",
       "      <td>0.0</td>\n",
       "      <td>0.0</td>\n",
       "      <td>0.0</td>\n",
       "      <td>0.0</td>\n",
       "      <td>0.0</td>\n",
       "      <td>0.0</td>\n",
       "      <td>0.03474</td>\n",
       "      <td>0.0</td>\n",
       "      <td>0.0</td>\n",
       "    </tr>\n",
       "  </tbody>\n",
       "</table>\n",
       "<p>5 rows × 458 columns</p>\n",
       "</div>"
      ],
      "text/plain": [
       "            sweet  bowl  favorit  water  bottom  top  name     soda  say  \\\n",
       "Unnamed: 0                                                                 \n",
       "B001E4KFG0    0.0   0.0  0.00000    0.0     0.0  0.0   0.0  0.00000  0.0   \n",
       "B00813GRG4    0.0   0.0  0.00000    0.0     0.0  0.0   0.0  0.00000  0.0   \n",
       "B000LQOCH0    0.0   0.0  0.00000    0.0     0.0  0.0   0.0  0.00000  0.0   \n",
       "B000UA0QIQ    0.0   0.0  0.00000    0.0     0.0  0.0   0.0  0.39439  0.0   \n",
       "B006K2ZZ7K    0.0   0.0  0.03439    0.0     0.0  0.0   0.0  0.00000  0.0   \n",
       "\n",
       "            wast  ...      etc  run  pay  green  realli  grain  test      got  \\\n",
       "Unnamed: 0        ...                                                           \n",
       "B001E4KFG0   0.0  ...  0.00000  0.0  0.0    0.0     0.0    0.0   0.0  0.00000   \n",
       "B00813GRG4   0.0  ...  0.00000  0.0  0.0    0.0     0.0    0.0   0.0  0.00000   \n",
       "B000LQOCH0   0.0  ...  0.00000  0.0  0.0    0.0     0.0    0.0   0.0  0.00000   \n",
       "B000UA0QIQ   0.0  ...  0.00000  0.0  0.0    0.0     0.0    0.0   0.0  0.16986   \n",
       "B006K2ZZ7K   0.0  ...  0.05352  0.0  0.0    0.0     0.0    0.0   0.0  0.03474   \n",
       "\n",
       "            pill  differ  \n",
       "Unnamed: 0                \n",
       "B001E4KFG0   0.0     0.0  \n",
       "B00813GRG4   0.0     0.0  \n",
       "B000LQOCH0   0.0     0.0  \n",
       "B000UA0QIQ   0.0     0.0  \n",
       "B006K2ZZ7K   0.0     0.0  \n",
       "\n",
       "[5 rows x 458 columns]"
      ]
     },
     "execution_count": 8,
     "metadata": {},
     "output_type": "execute_result"
    }
   ],
   "source": [
    "d = pd.read_csv('tf_idf_scores_dataframe.csv')\n",
    "d.set_index('Unnamed: 0',inplace=True)\n",
    "d.head()"
   ]
  },
  {
   "cell_type": "markdown",
   "metadata": {},
   "source": [
    "Before applying the algorithm, we need to understand **K**, the number of clusters. This can be determined by the **elbow method**"
   ]
  },
  {
   "cell_type": "code",
   "execution_count": 13,
   "metadata": {},
   "outputs": [
    {
     "name": "stdout",
     "output_type": "stream",
     "text": [
      "1\n",
      "2\n",
      "3\n",
      "4\n",
      "5\n",
      "6\n",
      "7\n",
      "8\n",
      "9\n",
      "10\n",
      "11\n",
      "12\n",
      "13\n",
      "14\n",
      "15\n",
      "16\n",
      "17\n",
      "18\n",
      "19\n",
      "20\n",
      "21\n",
      "22\n",
      "23\n",
      "24\n",
      "25\n",
      "26\n",
      "27\n",
      "28\n",
      "29\n",
      "30\n",
      "31\n",
      "32\n",
      "33\n",
      "34\n",
      "35\n",
      "36\n",
      "37\n",
      "38\n",
      "39\n"
     ]
    },
    {
     "data": {
      "image/png": "[encoded data removed]",
      "text/plain": [
       "<Figure size 1080x720 with 1 Axes>"
      ]
     },
     "metadata": {
      "needs_background": "light"
     },
     "output_type": "display_data"
    }
   ],
   "source": [
    "def elbow_method(data):\n",
    "    total_variance = []\n",
    "    for k in range(1, 40):\n",
    "        print(k)\n",
    "        kmeans = KMeans(n_clusters=k, max_iter = 100)# init='k-means++')\n",
    "        kmeans.fit(data)\n",
    "        total_variance.append(kmeans.inertia_)   #Sum of distances of samples to their closest cluster center\n",
    "    \n",
    "    #visualization of the curve\n",
    "    fig = plt.figure(figsize=(15, 10))\n",
    "    plt.xticks(range(1,41))\n",
    "    plt.plot(range(1, 40), total_variance, linewidth = 3)\n",
    "    plt.grid(color = 'lightgray', linestyle = '-.')\n",
    "    plt.xlabel('Number of clusters k')\n",
    "    plt.ylabel('Cost')\n",
    "\n",
    "fn.elbow_method(d)"
   ]
  },
  {
   "cell_type": "markdown",
   "metadata": {},
   "source": [
    "COMMENT ON THE CHOICE OF K BASED ON THE GRAPH ABOVE"
   ]
  },
  {
   "cell_type": "code",
   "execution_count": 14,
   "metadata": {},
   "outputs": [],
   "source": [
    "k = 20  #number of clusters"
   ]
  },
  {
   "cell_type": "code",
   "execution_count": 15,
   "metadata": {},
   "outputs": [],
   "source": [
    "#we convert our initial dataframe d into an array for easier computation\n",
    "vectors = np.array(d)"
   ]
  },
  {
   "cell_type": "markdown",
   "metadata": {},
   "source": [
    "We first define some functions that will be then recalled inside the proper algorithm: this functions will be useful to determine the initial points of each cluster, compute the distance between each point and each cluster, in order to understand in which cluster that point has to be inserted, and, finally, compute the variance at each iteration of the algorthm in order to understand when the best cluster is achieved."
   ]
  },
  {
   "cell_type": "code",
   "execution_count": 16,
   "metadata": {},
   "outputs": [],
   "source": [
    "#fucntion that computes the euclidea distance between vectors \n",
    "def distance_between_products(x1,x2):\n",
    "    return euclidean_distances(x1,x2)"
   ]
  },
  {
   "cell_type": "code",
   "execution_count": 17,
   "metadata": {},
   "outputs": [],
   "source": [
    "'''function that assigns each point to a cluster. In input has:\n",
    "- the centroids used in the specific iteration we are in\n",
    "- the array 'vectors' that has as many rows as the unique products and as many columns as the significant words \n",
    "  that we have selected for the analysis\n",
    "'''\n",
    "\n",
    "def assign_points_to_clusters(centroids, vectors):\n",
    "    clusters = []\n",
    "    for i in range(vectors.shape[0]):\n",
    "        distances = []\n",
    "        for centroid in centroids:\n",
    "            distance = distance_between_products([centroid], [vectors[i]])\n",
    "            distances.append(distance)\n",
    "            \n",
    "        cluster_selected = [distances.index(min(distances)) + 1]    #to determine in which cluster to put that element\n",
    "        clusters.append(cluster_selected)\n",
    "    \n",
    "    return clusters"
   ]
  },
  {
   "cell_type": "code",
   "execution_count": 18,
   "metadata": {},
   "outputs": [],
   "source": [
    "'''function that calculates new centroids based on each cluster's mean'''\n",
    "\n",
    "def define_new_centroids(clusters, vectors):\n",
    "    new_centroids = []\n",
    "    cluster_df = pd.concat([pd.DataFrame(vectors),pd.DataFrame(clusters, columns=['cluster'])], axis=1)\n",
    "    \n",
    "    for c in set(cluster_df['cluster']):\n",
    "        \n",
    "        current_cluster = cluster_df[cluster_df['cluster']==c][cluster_df.columns[:-1]]\n",
    "        cluster_mean = current_cluster.mean(axis=0)\n",
    "        new_centroids.append(cluster_mean)\n",
    "    \n",
    "    return new_centroids"
   ]
  },
  {
   "cell_type": "code",
   "execution_count": 19,
   "metadata": {},
   "outputs": [],
   "source": [
    "'''function that calculates the variance within each cluster at each iteration'''\n",
    "\n",
    "def variance(clusters, vectors):\n",
    "    sum_squares = []\n",
    "    cluster_df = pd.concat([pd.DataFrame(vectors),pd.DataFrame(clusters, columns=['cluster'])], axis=1)\n",
    "    \n",
    "    for c in set(cluster_df['cluster']):\n",
    "        current_cluster = cluster_df[cluster_df['cluster']==c][cluster_df.columns[:-1]]\n",
    "        cluster_mean = current_cluster.mean(axis=0)\n",
    "        mean_repmat = np.matlib.repmat(cluster_mean, current_cluster.shape[0],1)\n",
    "        sum_squares.append(np.sum(np.sum((current_cluster - mean_repmat)**2)))\n",
    "    \n",
    "    return sum_squares"
   ]
  },
  {
   "cell_type": "markdown",
   "metadata": {},
   "source": [
    "### Initialization"
   ]
  },
  {
   "cell_type": "code",
   "execution_count": 27,
   "metadata": {},
   "outputs": [
    {
     "name": "stdout",
     "output_type": "stream",
     "text": [
      "0 708\n"
     ]
    }
   ],
   "source": [
    "cluster_variance = []\n",
    "\n",
    "initial_centroids = random.sample(range(0, len(d)), k)    # I choose k numbers random between 0 and the length of our dataset\n",
    "\n",
    "#we use these numbers as indices to get the products associated at those centroids\n",
    "centroids = []      \n",
    "for i in initial_centroids:\n",
    "    centroids.append(vectors[i])\n",
    "    \n",
    "clusters = fn.assign_points_to_clusters(centroids, vectors)\n",
    "initial_clusters = clusters\n",
    "print(0, round(np.mean(fn.variance(clusters, vectors))))"
   ]
  },
  {
   "cell_type": "markdown",
   "metadata": {},
   "source": [
    "### Iterations"
   ]
  },
  {
   "cell_type": "code",
   "execution_count": 34,
   "metadata": {},
   "outputs": [
    {
     "name": "stdout",
     "output_type": "stream",
     "text": [
      "1 669\n",
      "2 669\n",
      "3 668\n",
      "4 667\n",
      "5 664\n"
     ]
    },
    {
     "ename": "KeyboardInterrupt",
     "evalue": "",
     "output_type": "error",
     "traceback": [
      "\u001b[0;31m---------------------------------------------------------------------------\u001b[0m",
      "\u001b[0;31mKeyboardInterrupt\u001b[0m                         Traceback (most recent call last)",
      "\u001b[0;32m<ipython-input-34-8ad2dd78f770>\u001b[0m in \u001b[0;36m<module>\u001b[0;34m\u001b[0m\n\u001b[1;32m      1\u001b[0m \u001b[0;32mfor\u001b[0m \u001b[0mi\u001b[0m \u001b[0;32min\u001b[0m \u001b[0mrange\u001b[0m\u001b[0;34m(\u001b[0m\u001b[0;36m10\u001b[0m\u001b[0;34m)\u001b[0m\u001b[0;34m:\u001b[0m\u001b[0;34m\u001b[0m\u001b[0;34m\u001b[0m\u001b[0m\n\u001b[1;32m      2\u001b[0m     \u001b[0mcentroids\u001b[0m \u001b[0;34m=\u001b[0m \u001b[0mdefine_new_centroids\u001b[0m\u001b[0;34m(\u001b[0m\u001b[0mclusters\u001b[0m\u001b[0;34m,\u001b[0m \u001b[0mvectors\u001b[0m\u001b[0;34m)\u001b[0m\u001b[0;34m\u001b[0m\u001b[0;34m\u001b[0m\u001b[0m\n\u001b[0;32m----> 3\u001b[0;31m     \u001b[0mclusters\u001b[0m \u001b[0;34m=\u001b[0m \u001b[0massign_points_to_clusters\u001b[0m\u001b[0;34m(\u001b[0m\u001b[0mcentroids\u001b[0m\u001b[0;34m,\u001b[0m \u001b[0mvectors\u001b[0m\u001b[0;34m)\u001b[0m\u001b[0;34m\u001b[0m\u001b[0;34m\u001b[0m\u001b[0m\n\u001b[0m\u001b[1;32m      4\u001b[0m     \u001b[0mcluster_var\u001b[0m \u001b[0;34m=\u001b[0m \u001b[0mnp\u001b[0m\u001b[0;34m.\u001b[0m\u001b[0mmean\u001b[0m\u001b[0;34m(\u001b[0m\u001b[0mvariance\u001b[0m\u001b[0;34m(\u001b[0m\u001b[0mclusters\u001b[0m\u001b[0;34m,\u001b[0m \u001b[0mvectors\u001b[0m\u001b[0;34m)\u001b[0m\u001b[0;34m)\u001b[0m\u001b[0;34m\u001b[0m\u001b[0;34m\u001b[0m\u001b[0m\n\u001b[1;32m      5\u001b[0m     \u001b[0mcluster_variance\u001b[0m\u001b[0;34m.\u001b[0m\u001b[0mappend\u001b[0m\u001b[0;34m(\u001b[0m\u001b[0mcluster_var\u001b[0m\u001b[0;34m)\u001b[0m\u001b[0;34m\u001b[0m\u001b[0;34m\u001b[0m\u001b[0m\n",
      "\u001b[0;32m<ipython-input-17-cdc97da34e1c>\u001b[0m in \u001b[0;36massign_points_to_clusters\u001b[0;34m(centroids, vectors)\u001b[0m\n\u001b[1;32m     10\u001b[0m         \u001b[0mdistances\u001b[0m \u001b[0;34m=\u001b[0m \u001b[0;34m[\u001b[0m\u001b[0;34m]\u001b[0m\u001b[0;34m\u001b[0m\u001b[0;34m\u001b[0m\u001b[0m\n\u001b[1;32m     11\u001b[0m         \u001b[0;32mfor\u001b[0m \u001b[0mcentroid\u001b[0m \u001b[0;32min\u001b[0m \u001b[0mcentroids\u001b[0m\u001b[0;34m:\u001b[0m\u001b[0;34m\u001b[0m\u001b[0;34m\u001b[0m\u001b[0m\n\u001b[0;32m---> 12\u001b[0;31m             \u001b[0mdistance\u001b[0m \u001b[0;34m=\u001b[0m \u001b[0mdistance_between_products\u001b[0m\u001b[0;34m(\u001b[0m\u001b[0;34m[\u001b[0m\u001b[0mcentroid\u001b[0m\u001b[0;34m]\u001b[0m\u001b[0;34m,\u001b[0m \u001b[0;34m[\u001b[0m\u001b[0mvectors\u001b[0m\u001b[0;34m[\u001b[0m\u001b[0mi\u001b[0m\u001b[0;34m]\u001b[0m\u001b[0;34m]\u001b[0m\u001b[0;34m)\u001b[0m\u001b[0;34m\u001b[0m\u001b[0;34m\u001b[0m\u001b[0m\n\u001b[0m\u001b[1;32m     13\u001b[0m             \u001b[0mdistances\u001b[0m\u001b[0;34m.\u001b[0m\u001b[0mappend\u001b[0m\u001b[0;34m(\u001b[0m\u001b[0mdistance\u001b[0m\u001b[0;34m)\u001b[0m\u001b[0;34m\u001b[0m\u001b[0;34m\u001b[0m\u001b[0m\n\u001b[1;32m     14\u001b[0m \u001b[0;34m\u001b[0m\u001b[0m\n",
      "\u001b[0;32m<ipython-input-16-7357544b9c26>\u001b[0m in \u001b[0;36mdistance_between_products\u001b[0;34m(x1, x2)\u001b[0m\n\u001b[1;32m      1\u001b[0m \u001b[0;31m#fucntion that computes the euclidea distance between vectors\u001b[0m\u001b[0;34m\u001b[0m\u001b[0;34m\u001b[0m\u001b[0;34m\u001b[0m\u001b[0m\n\u001b[1;32m      2\u001b[0m \u001b[0;32mdef\u001b[0m \u001b[0mdistance_between_products\u001b[0m\u001b[0;34m(\u001b[0m\u001b[0mx1\u001b[0m\u001b[0;34m,\u001b[0m\u001b[0mx2\u001b[0m\u001b[0;34m)\u001b[0m\u001b[0;34m:\u001b[0m\u001b[0;34m\u001b[0m\u001b[0;34m\u001b[0m\u001b[0m\n\u001b[0;32m----> 3\u001b[0;31m     \u001b[0;32mreturn\u001b[0m \u001b[0meuclidean_distances\u001b[0m\u001b[0;34m(\u001b[0m\u001b[0mx1\u001b[0m\u001b[0;34m,\u001b[0m\u001b[0mx2\u001b[0m\u001b[0;34m)\u001b[0m\u001b[0;34m\u001b[0m\u001b[0;34m\u001b[0m\u001b[0m\n\u001b[0m",
      "\u001b[0;32m/Users/Giulia/opt/anaconda3/lib/python3.8/site-packages/sklearn/utils/validation.py\u001b[0m in \u001b[0;36minner_f\u001b[0;34m(*args, **kwargs)\u001b[0m\n\u001b[1;32m     71\u001b[0m                           FutureWarning)\n\u001b[1;32m     72\u001b[0m         \u001b[0mkwargs\u001b[0m\u001b[0;34m.\u001b[0m\u001b[0mupdate\u001b[0m\u001b[0;34m(\u001b[0m\u001b[0;34m{\u001b[0m\u001b[0mk\u001b[0m\u001b[0;34m:\u001b[0m \u001b[0marg\u001b[0m \u001b[0;32mfor\u001b[0m \u001b[0mk\u001b[0m\u001b[0;34m,\u001b[0m \u001b[0marg\u001b[0m \u001b[0;32min\u001b[0m \u001b[0mzip\u001b[0m\u001b[0;34m(\u001b[0m\u001b[0msig\u001b[0m\u001b[0;34m.\u001b[0m\u001b[0mparameters\u001b[0m\u001b[0;34m,\u001b[0m \u001b[0margs\u001b[0m\u001b[0;34m)\u001b[0m\u001b[0;34m}\u001b[0m\u001b[0;34m)\u001b[0m\u001b[0;34m\u001b[0m\u001b[0;34m\u001b[0m\u001b[0m\n\u001b[0;32m---> 73\u001b[0;31m         \u001b[0;32mreturn\u001b[0m \u001b[0mf\u001b[0m\u001b[0;34m(\u001b[0m\u001b[0;34m**\u001b[0m\u001b[0mkwargs\u001b[0m\u001b[0;34m)\u001b[0m\u001b[0;34m\u001b[0m\u001b[0;34m\u001b[0m\u001b[0m\n\u001b[0m\u001b[1;32m     74\u001b[0m     \u001b[0;32mreturn\u001b[0m \u001b[0minner_f\u001b[0m\u001b[0;34m\u001b[0m\u001b[0;34m\u001b[0m\u001b[0m\n\u001b[1;32m     75\u001b[0m \u001b[0;34m\u001b[0m\u001b[0m\n",
      "\u001b[0;32m/Users/Giulia/opt/anaconda3/lib/python3.8/site-packages/sklearn/metrics/pairwise.py\u001b[0m in \u001b[0;36meuclidean_distances\u001b[0;34m(X, Y, Y_norm_squared, squared, X_norm_squared)\u001b[0m\n\u001b[1;32m    266\u001b[0m     \u001b[0mpaired_distances\u001b[0m \u001b[0;34m:\u001b[0m \u001b[0mdistances\u001b[0m \u001b[0mbetweens\u001b[0m \u001b[0mpairs\u001b[0m \u001b[0mof\u001b[0m \u001b[0melements\u001b[0m \u001b[0mof\u001b[0m \u001b[0mX\u001b[0m \u001b[0;32mand\u001b[0m \u001b[0mY\u001b[0m\u001b[0;34m.\u001b[0m\u001b[0;34m\u001b[0m\u001b[0;34m\u001b[0m\u001b[0m\n\u001b[1;32m    267\u001b[0m     \"\"\"\n\u001b[0;32m--> 268\u001b[0;31m     \u001b[0mX\u001b[0m\u001b[0;34m,\u001b[0m \u001b[0mY\u001b[0m \u001b[0;34m=\u001b[0m \u001b[0mcheck_pairwise_arrays\u001b[0m\u001b[0;34m(\u001b[0m\u001b[0mX\u001b[0m\u001b[0;34m,\u001b[0m \u001b[0mY\u001b[0m\u001b[0;34m)\u001b[0m\u001b[0;34m\u001b[0m\u001b[0;34m\u001b[0m\u001b[0m\n\u001b[0m\u001b[1;32m    269\u001b[0m \u001b[0;34m\u001b[0m\u001b[0m\n\u001b[1;32m    270\u001b[0m     \u001b[0;31m# If norms are passed as float32, they are unused. If arrays are passed as\u001b[0m\u001b[0;34m\u001b[0m\u001b[0;34m\u001b[0m\u001b[0;34m\u001b[0m\u001b[0m\n",
      "\u001b[0;32m/Users/Giulia/opt/anaconda3/lib/python3.8/site-packages/sklearn/utils/validation.py\u001b[0m in \u001b[0;36minner_f\u001b[0;34m(*args, **kwargs)\u001b[0m\n\u001b[1;32m     71\u001b[0m                           FutureWarning)\n\u001b[1;32m     72\u001b[0m         \u001b[0mkwargs\u001b[0m\u001b[0;34m.\u001b[0m\u001b[0mupdate\u001b[0m\u001b[0;34m(\u001b[0m\u001b[0;34m{\u001b[0m\u001b[0mk\u001b[0m\u001b[0;34m:\u001b[0m \u001b[0marg\u001b[0m \u001b[0;32mfor\u001b[0m \u001b[0mk\u001b[0m\u001b[0;34m,\u001b[0m \u001b[0marg\u001b[0m \u001b[0;32min\u001b[0m \u001b[0mzip\u001b[0m\u001b[0;34m(\u001b[0m\u001b[0msig\u001b[0m\u001b[0;34m.\u001b[0m\u001b[0mparameters\u001b[0m\u001b[0;34m,\u001b[0m \u001b[0margs\u001b[0m\u001b[0;34m)\u001b[0m\u001b[0;34m}\u001b[0m\u001b[0;34m)\u001b[0m\u001b[0;34m\u001b[0m\u001b[0;34m\u001b[0m\u001b[0m\n\u001b[0;32m---> 73\u001b[0;31m         \u001b[0;32mreturn\u001b[0m \u001b[0mf\u001b[0m\u001b[0;34m(\u001b[0m\u001b[0;34m**\u001b[0m\u001b[0mkwargs\u001b[0m\u001b[0;34m)\u001b[0m\u001b[0;34m\u001b[0m\u001b[0;34m\u001b[0m\u001b[0m\n\u001b[0m\u001b[1;32m     74\u001b[0m     \u001b[0;32mreturn\u001b[0m \u001b[0minner_f\u001b[0m\u001b[0;34m\u001b[0m\u001b[0;34m\u001b[0m\u001b[0m\n\u001b[1;32m     75\u001b[0m \u001b[0;34m\u001b[0m\u001b[0m\n",
      "\u001b[0;32m/Users/Giulia/opt/anaconda3/lib/python3.8/site-packages/sklearn/metrics/pairwise.py\u001b[0m in \u001b[0;36mcheck_pairwise_arrays\u001b[0;34m(X, Y, precomputed, dtype, accept_sparse, force_all_finite, copy)\u001b[0m\n\u001b[1;32m    131\u001b[0m \u001b[0;34m\u001b[0m\u001b[0m\n\u001b[1;32m    132\u001b[0m     \"\"\"\n\u001b[0;32m--> 133\u001b[0;31m     \u001b[0mX\u001b[0m\u001b[0;34m,\u001b[0m \u001b[0mY\u001b[0m\u001b[0;34m,\u001b[0m \u001b[0mdtype_float\u001b[0m \u001b[0;34m=\u001b[0m \u001b[0m_return_float_dtype\u001b[0m\u001b[0;34m(\u001b[0m\u001b[0mX\u001b[0m\u001b[0;34m,\u001b[0m \u001b[0mY\u001b[0m\u001b[0;34m)\u001b[0m\u001b[0;34m\u001b[0m\u001b[0;34m\u001b[0m\u001b[0m\n\u001b[0m\u001b[1;32m    134\u001b[0m \u001b[0;34m\u001b[0m\u001b[0m\n\u001b[1;32m    135\u001b[0m     \u001b[0mestimator\u001b[0m \u001b[0;34m=\u001b[0m \u001b[0;34m'check_pairwise_arrays'\u001b[0m\u001b[0;34m\u001b[0m\u001b[0;34m\u001b[0m\u001b[0m\n",
      "\u001b[0;32m/Users/Giulia/opt/anaconda3/lib/python3.8/site-packages/sklearn/metrics/pairwise.py\u001b[0m in \u001b[0;36m_return_float_dtype\u001b[0;34m(X, Y)\u001b[0m\n\u001b[1;32m     42\u001b[0m     \"\"\"\n\u001b[1;32m     43\u001b[0m     \u001b[0;32mif\u001b[0m \u001b[0;32mnot\u001b[0m \u001b[0missparse\u001b[0m\u001b[0;34m(\u001b[0m\u001b[0mX\u001b[0m\u001b[0;34m)\u001b[0m \u001b[0;32mand\u001b[0m \u001b[0;32mnot\u001b[0m \u001b[0misinstance\u001b[0m\u001b[0;34m(\u001b[0m\u001b[0mX\u001b[0m\u001b[0;34m,\u001b[0m \u001b[0mnp\u001b[0m\u001b[0;34m.\u001b[0m\u001b[0mndarray\u001b[0m\u001b[0;34m)\u001b[0m\u001b[0;34m:\u001b[0m\u001b[0;34m\u001b[0m\u001b[0;34m\u001b[0m\u001b[0m\n\u001b[0;32m---> 44\u001b[0;31m         \u001b[0mX\u001b[0m \u001b[0;34m=\u001b[0m \u001b[0mnp\u001b[0m\u001b[0;34m.\u001b[0m\u001b[0masarray\u001b[0m\u001b[0;34m(\u001b[0m\u001b[0mX\u001b[0m\u001b[0;34m)\u001b[0m\u001b[0;34m\u001b[0m\u001b[0;34m\u001b[0m\u001b[0m\n\u001b[0m\u001b[1;32m     45\u001b[0m \u001b[0;34m\u001b[0m\u001b[0m\n\u001b[1;32m     46\u001b[0m     \u001b[0;32mif\u001b[0m \u001b[0mY\u001b[0m \u001b[0;32mis\u001b[0m \u001b[0;32mNone\u001b[0m\u001b[0;34m:\u001b[0m\u001b[0;34m\u001b[0m\u001b[0;34m\u001b[0m\u001b[0m\n",
      "\u001b[0;32m/Users/Giulia/opt/anaconda3/lib/python3.8/site-packages/numpy/core/_asarray.py\u001b[0m in \u001b[0;36masarray\u001b[0;34m(a, dtype, order)\u001b[0m\n\u001b[1;32m     81\u001b[0m \u001b[0;34m\u001b[0m\u001b[0m\n\u001b[1;32m     82\u001b[0m     \"\"\"\n\u001b[0;32m---> 83\u001b[0;31m     \u001b[0;32mreturn\u001b[0m \u001b[0marray\u001b[0m\u001b[0;34m(\u001b[0m\u001b[0ma\u001b[0m\u001b[0;34m,\u001b[0m \u001b[0mdtype\u001b[0m\u001b[0;34m,\u001b[0m \u001b[0mcopy\u001b[0m\u001b[0;34m=\u001b[0m\u001b[0;32mFalse\u001b[0m\u001b[0;34m,\u001b[0m \u001b[0morder\u001b[0m\u001b[0;34m=\u001b[0m\u001b[0morder\u001b[0m\u001b[0;34m)\u001b[0m\u001b[0;34m\u001b[0m\u001b[0;34m\u001b[0m\u001b[0m\n\u001b[0m\u001b[1;32m     84\u001b[0m \u001b[0;34m\u001b[0m\u001b[0m\n\u001b[1;32m     85\u001b[0m \u001b[0;34m\u001b[0m\u001b[0m\n",
      "\u001b[0;32m/Users/Giulia/opt/anaconda3/lib/python3.8/site-packages/pandas/core/series.py\u001b[0m in \u001b[0;36m__array__\u001b[0;34m(self, dtype)\u001b[0m\n\u001b[1;32m    752\u001b[0m               dtype='datetime64[ns]')\n\u001b[1;32m    753\u001b[0m         \"\"\"\n\u001b[0;32m--> 754\u001b[0;31m         \u001b[0;32mreturn\u001b[0m \u001b[0mnp\u001b[0m\u001b[0;34m.\u001b[0m\u001b[0masarray\u001b[0m\u001b[0;34m(\u001b[0m\u001b[0mself\u001b[0m\u001b[0;34m.\u001b[0m\u001b[0marray\u001b[0m\u001b[0;34m,\u001b[0m \u001b[0mdtype\u001b[0m\u001b[0;34m)\u001b[0m\u001b[0;34m\u001b[0m\u001b[0;34m\u001b[0m\u001b[0m\n\u001b[0m\u001b[1;32m    755\u001b[0m \u001b[0;34m\u001b[0m\u001b[0m\n\u001b[1;32m    756\u001b[0m     \u001b[0;31m# ----------------------------------------------------------------------\u001b[0m\u001b[0;34m\u001b[0m\u001b[0;34m\u001b[0m\u001b[0;34m\u001b[0m\u001b[0m\n",
      "\u001b[0;32m/Users/Giulia/opt/anaconda3/lib/python3.8/site-packages/numpy/core/_asarray.py\u001b[0m in \u001b[0;36masarray\u001b[0;34m(a, dtype, order)\u001b[0m\n\u001b[1;32m     81\u001b[0m \u001b[0;34m\u001b[0m\u001b[0m\n\u001b[1;32m     82\u001b[0m     \"\"\"\n\u001b[0;32m---> 83\u001b[0;31m     \u001b[0;32mreturn\u001b[0m \u001b[0marray\u001b[0m\u001b[0;34m(\u001b[0m\u001b[0ma\u001b[0m\u001b[0;34m,\u001b[0m \u001b[0mdtype\u001b[0m\u001b[0;34m,\u001b[0m \u001b[0mcopy\u001b[0m\u001b[0;34m=\u001b[0m\u001b[0;32mFalse\u001b[0m\u001b[0;34m,\u001b[0m \u001b[0morder\u001b[0m\u001b[0;34m=\u001b[0m\u001b[0morder\u001b[0m\u001b[0;34m)\u001b[0m\u001b[0;34m\u001b[0m\u001b[0;34m\u001b[0m\u001b[0m\n\u001b[0m\u001b[1;32m     84\u001b[0m \u001b[0;34m\u001b[0m\u001b[0m\n\u001b[1;32m     85\u001b[0m \u001b[0;34m\u001b[0m\u001b[0m\n",
      "\u001b[0;32m/Users/Giulia/opt/anaconda3/lib/python3.8/site-packages/pandas/core/arrays/numpy_.py\u001b[0m in \u001b[0;36m__array__\u001b[0;34m(self, dtype)\u001b[0m\n\u001b[1;32m    181\u001b[0m     \u001b[0;31m# NumPy Array Interface\u001b[0m\u001b[0;34m\u001b[0m\u001b[0;34m\u001b[0m\u001b[0;34m\u001b[0m\u001b[0m\n\u001b[1;32m    182\u001b[0m \u001b[0;34m\u001b[0m\u001b[0m\n\u001b[0;32m--> 183\u001b[0;31m     \u001b[0;32mdef\u001b[0m \u001b[0m__array__\u001b[0m\u001b[0;34m(\u001b[0m\u001b[0mself\u001b[0m\u001b[0;34m,\u001b[0m \u001b[0mdtype\u001b[0m\u001b[0;34m=\u001b[0m\u001b[0;32mNone\u001b[0m\u001b[0;34m)\u001b[0m \u001b[0;34m->\u001b[0m \u001b[0mnp\u001b[0m\u001b[0;34m.\u001b[0m\u001b[0mndarray\u001b[0m\u001b[0;34m:\u001b[0m\u001b[0;34m\u001b[0m\u001b[0;34m\u001b[0m\u001b[0m\n\u001b[0m\u001b[1;32m    184\u001b[0m         \u001b[0;32mreturn\u001b[0m \u001b[0mnp\u001b[0m\u001b[0;34m.\u001b[0m\u001b[0masarray\u001b[0m\u001b[0;34m(\u001b[0m\u001b[0mself\u001b[0m\u001b[0;34m.\u001b[0m\u001b[0m_ndarray\u001b[0m\u001b[0;34m,\u001b[0m \u001b[0mdtype\u001b[0m\u001b[0;34m=\u001b[0m\u001b[0mdtype\u001b[0m\u001b[0;34m)\u001b[0m\u001b[0;34m\u001b[0m\u001b[0;34m\u001b[0m\u001b[0m\n\u001b[1;32m    185\u001b[0m \u001b[0;34m\u001b[0m\u001b[0m\n",
      "\u001b[0;31mKeyboardInterrupt\u001b[0m: "
     ]
    }
   ],
   "source": [
    "for i in range(10):\n",
    "    centroids = define_new_centroids(clusters, vectors)\n",
    "    clusters = assign_points_to_clusters(centroids, vectors)\n",
    "    cluster_var = np.mean(variance(clusters, vectors))\n",
    "    cluster_variance.append(cluster_var)\n",
    "    \n",
    "    if i == 0:\n",
    "        print(i+1, round(cluster_var))\n",
    "    \n",
    "    else:\n",
    "        if cluster_variance[i-1] - cluster_variance[i] > 1.0:\n",
    "            print(i+1, round(cluster_var))\n",
    "        else:\n",
    "            break"
   ]
  },
  {
   "cell_type": "markdown",
   "metadata": {},
   "source": [
    "We can see that from the 6th iteration, the cluster variance pretty much stabilize, this means that the algorithm has found the best solution: the data points within each cluster stop changing.\n",
    "\n",
    "We can visualize the change of viariance at each iteration from the graph below:"
   ]
  },
  {
   "cell_type": "code",
   "execution_count": 32,
   "metadata": {
    "scrolled": false
   },
   "outputs": [
    {
     "data": {
      "image/png": "[encoded data removed]",
      "text/plain": [
       "<Figure size 648x432 with 1 Axes>"
      ]
     },
     "metadata": {
      "needs_background": "light"
     },
     "output_type": "display_data"
    }
   ],
   "source": [
    "plt.figure(figsize=(9,6))\n",
    "plt.plot(cluster_variance, linewidth = 3)\n",
    "plt.grid(color = 'lightgray', linestyle = '-.')\n",
    "plt.xlabel('Iterations')\n",
    "plt.ylabel('Variance')\n",
    "plt.show()"
   ]
  },
  {
   "cell_type": "markdown",
   "metadata": {},
   "source": [
    "We can also determine which were the initial products selected as centroids:"
   ]
  },
  {
   "cell_type": "code",
   "execution_count": 20,
   "metadata": {},
   "outputs": [
    {
     "name": "stdout",
     "output_type": "stream",
     "text": [
      "B007XUK3RA\n",
      "B004KUEQUG\n",
      "B00012175O\n",
      "B0001VWELG\n",
      "B001SAYDTK\n",
      "B004QQ82M2\n",
      "B000HQMLKY\n",
      "B000WG5GZG\n",
      "B003Z9V2NW\n",
      "B00032HPBW\n",
      "B0030VJ8YU\n",
      "B0029NILPW\n",
      "B000QHF3CC\n"
     ]
    }
   ],
   "source": [
    "for i in initial_centroids:\n",
    "    print(d.index[i])"
   ]
  },
  {
   "cell_type": "code",
   "execution_count": 21,
   "metadata": {},
   "outputs": [],
   "source": [
    "cluster_list = [cluster for list in clusters for cluster in list]"
   ]
  },
  {
   "cell_type": "code",
   "execution_count": 22,
   "metadata": {},
   "outputs": [],
   "source": [
    "df = pd.DataFrame(list(reviews_per_product.items()),columns = ['ProductID','list_of_words']) \n",
    "df['cluster'] = cluster_list"
   ]
  },
  {
   "cell_type": "markdown",
   "metadata": {},
   "source": [
    "We want to see now, how many products we have in each cluster:"
   ]
  },
  {
   "cell_type": "code",
   "execution_count": 40,
   "metadata": {
    "scrolled": true
   },
   "outputs": [
    {
     "data": {
      "text/plain": [
       "cluster\n",
       "1       264\n",
       "2       702\n",
       "3      2991\n",
       "4        11\n",
       "5       534\n",
       "6      2089\n",
       "7      5336\n",
       "8       516\n",
       "9      4347\n",
       "10     1038\n",
       "11     1862\n",
       "12     4401\n",
       "13    50167\n",
       "Name: ProductID, dtype: int64"
      ]
     },
     "execution_count": 40,
     "metadata": {},
     "output_type": "execute_result"
    }
   ],
   "source": [
    "df.groupby('cluster').ProductID.count()"
   ]
  },
  {
   "cell_type": "markdown",
   "metadata": {},
   "source": [
    "## Analysis of the clusters"
   ]
  },
  {
   "cell_type": "markdown",
   "metadata": {},
   "source": [
    "Since we can retrieve the product Id of the prooducts inside the same cluster, we can now analyze the clusters a little bit deeper.\n",
    "\n",
    "To do so we need to import the original dataset"
   ]
  },
  {
   "cell_type": "code",
   "execution_count": null,
   "metadata": {},
   "outputs": [],
   "source": [
    "data = pd.read_csv('Reviews.csv')\n",
    "data.drop('Id', axis = 1, inplace = True)\n",
    "data.head()"
   ]
  },
  {
   "cell_type": "markdown",
   "metadata": {},
   "source": [
    "### 1. Identify the kind of products in the cluster (e.g., chips, tea, coffee) using a word cloud."
   ]
  },
  {
   "cell_type": "code",
   "execution_count": 5,
   "metadata": {},
   "outputs": [],
   "source": [
    "import wordcloud"
   ]
  },
  {
   "cell_type": "code",
   "execution_count": 6,
   "metadata": {},
   "outputs": [],
   "source": [
    "def words_cloud(d,cluster_list):\n",
    "    d['cluster']=cluster_list\n",
    "    for cluster in range(13):\n",
    "        print('Word cloud for cluster:', cluster)\n",
    "        clus_df = d[d.cluster == 1]\n",
    "        sum_scores = clus_df.sum(axis=0)\n",
    "        words = dict(zip(d.columns[:-1],sum_scores[:-1]))\n",
    "        Cloud = wordcloud.WordCloud(background_color=\"white\", max_words=len(words)).generate_from_frequencies(words)\n",
    "        plt.figure(figsize = (15, 10), facecolor = None) \n",
    "        plt.imshow(Cloud) \n",
    "        plt.axis(\"off\") \n",
    "        plt.tight_layout(pad = 0) \n",
    "        plt.show()"
   ]
  },
  {
   "cell_type": "code",
   "execution_count": 7,
   "metadata": {},
   "outputs": [
    {
     "ename": "NameError",
     "evalue": "name 'd' is not defined",
     "output_type": "error",
     "traceback": [
      "\u001b[0;31m---------------------------------------------------------------------------\u001b[0m",
      "\u001b[0;31mNameError\u001b[0m                                 Traceback (most recent call last)",
      "\u001b[0;32m<ipython-input-7-2921369487ed>\u001b[0m in \u001b[0;36m<module>\u001b[0;34m\u001b[0m\n\u001b[0;32m----> 1\u001b[0;31m \u001b[0mwords_cloud\u001b[0m\u001b[0;34m(\u001b[0m\u001b[0md\u001b[0m\u001b[0;34m,\u001b[0m\u001b[0mcluster_list\u001b[0m\u001b[0;34m)\u001b[0m\u001b[0;34m\u001b[0m\u001b[0;34m\u001b[0m\u001b[0m\n\u001b[0m",
      "\u001b[0;31mNameError\u001b[0m: name 'd' is not defined"
     ]
    }
   ],
   "source": [
    "words_cloud(d,cluster_list)"
   ]
  },
  {
   "cell_type": "markdown",
   "metadata": {},
   "source": [
    "### 2. Provide the number of product in each cluster:\n",
    "We have already answered this question above, when we grouped by the products based on the cluster they belonged. We are going to show again the final result here:"
   ]
  },
  {
   "cell_type": "code",
   "execution_count": 70,
   "metadata": {
    "scrolled": true
   },
   "outputs": [
    {
     "data": {
      "text/plain": [
       "cluster\n",
       "1       264\n",
       "2       702\n",
       "3      2991\n",
       "4        11\n",
       "5       534\n",
       "6      2089\n",
       "7      5336\n",
       "8       516\n",
       "9      4347\n",
       "10     1038\n",
       "11     1862\n",
       "12     4401\n",
       "13    50167\n",
       "Name: ProductID, dtype: int64"
      ]
     },
     "execution_count": 70,
     "metadata": {},
     "output_type": "execute_result"
    }
   ],
   "source": [
    "df.groupby('cluster').count()"
   ]
  },
  {
   "cell_type": "code",
   "execution_count": 107,
   "metadata": {},
   "outputs": [
    {
     "data": {
      "image/png": "[encoded data removed]",
      "text/plain": [
       "<Figure size 1296x1008 with 1 Axes>"
      ]
     },
     "metadata": {},
     "output_type": "display_data"
    }
   ],
   "source": [
    "plt.figure(figsize = (18,14))\n",
    "plt.plot(df.groupby('cluster').ProductID.count(), color = 'lightcoral',linewidth = 3, \n",
    "         marker = 'o', markersize = 10, mfc = 'brown', mec = 'brown')\n",
    "plt.grid(color = 'lightgray', linestyle = '-.')\n",
    "plt.rcParams['axes.facecolor'] = 'whitesmoke'\n",
    "plt.show()"
   ]
  },
  {
   "cell_type": "markdown",
   "metadata": {},
   "source": [
    "As we can see, the algorithm that has the majoriry of products associated to, is **cluster number 13** which corrresponds to the following product IDs:"
   ]
  },
  {
   "cell_type": "code",
   "execution_count": 49,
   "metadata": {
    "scrolled": true
   },
   "outputs": [
    {
     "data": {
      "text/plain": [
       "2        B000LQOCH0\n",
       "3        B000UA0QIQ\n",
       "4        B006K2ZZ7K\n",
       "9        B001GVISJM\n",
       "10       B00144C10S\n",
       "            ...    \n",
       "74250    B005ZC0RRO\n",
       "74252    B006T7TKZO\n",
       "74254    B001EO7N10\n",
       "74255    B003S1WTCU\n",
       "74257    B001LR2CU2\n",
       "Name: ProductID, Length: 50167, dtype: object"
      ]
     },
     "execution_count": 49,
     "metadata": {},
     "output_type": "execute_result"
    }
   ],
   "source": [
    "df[df.cluster == 13].ProductID"
   ]
  },
  {
   "cell_type": "markdown",
   "metadata": {},
   "source": [
    "### 3. Compute the reviews' score distribution in each cluster"
   ]
  },
  {
   "cell_type": "code",
   "execution_count": 209,
   "metadata": {
    "scrolled": false
   },
   "outputs": [
    {
     "data": {
      "image/png": "[encoded data removed]",
      "text/plain": [
       "<Figure size 576x288 with 1 Axes>"
      ]
     },
     "metadata": {},
     "output_type": "display_data"
    },
    {
     "data": {
      "image/png": "[encoded data removed]",
      "text/plain": [
       "<Figure size 576x288 with 1 Axes>"
      ]
     },
     "metadata": {},
     "output_type": "display_data"
    },
    {
     "data": {
      "image/png": "[encoded data removed]",
      "text/plain": [
       "<Figure size 576x288 with 1 Axes>"
      ]
     },
     "metadata": {},
     "output_type": "display_data"
    },
    {
     "data": {
      "image/png": "[encoded data removed]",
      "text/plain": [
       "<Figure size 576x288 with 1 Axes>"
      ]
     },
     "metadata": {},
     "output_type": "display_data"
    },
    {
     "data": {
      "image/png": "[encoded data removed]",
      "text/plain": [
       "<Figure size 576x288 with 1 Axes>"
      ]
     },
     "metadata": {},
     "output_type": "display_data"
    },
    {
     "data": {
      "image/png": "[encoded data removed]",
      "text/plain": [
       "<Figure size 576x288 with 1 Axes>"
      ]
     },
     "metadata": {},
     "output_type": "display_data"
    },
    {
     "data": {
      "image/png": "[encoded data removed]",
      "text/plain": [
       "<Figure size 576x288 with 1 Axes>"
      ]
     },
     "metadata": {},
     "output_type": "display_data"
    },
    {
     "data": {
      "image/png": "[encoded data removed]",
      "text/plain": [
       "<Figure size 576x288 with 1 Axes>"
      ]
     },
     "metadata": {},
     "output_type": "display_data"
    },
    {
     "data": {
      "image/png": "[encoded data removed]",
      "text/plain": [
       "<Figure size 576x288 with 1 Axes>"
      ]
     },
     "metadata": {},
     "output_type": "display_data"
    },
    {
     "data": {
      "image/png": "[encoded data removed]",
      "text/plain": [
       "<Figure size 576x288 with 1 Axes>"
      ]
     },
     "metadata": {},
     "output_type": "display_data"
    },
    {
     "data": {
      "image/png": "[encoded data removed]",
      "text/plain": [
       "<Figure size 576x288 with 1 Axes>"
      ]
     },
     "metadata": {},
     "output_type": "display_data"
    },
    {
     "data": {
      "image/png": "[encoded data removed]",
      "text/plain": [
       "<Figure size 576x288 with 1 Axes>"
      ]
     },
     "metadata": {},
     "output_type": "display_data"
    },
    {
     "data": {
      "image/png": "[encoded data removed]",
      "text/plain": [
       "<Figure size 576x288 with 1 Axes>"
      ]
     },
     "metadata": {},
     "output_type": "display_data"
    }
   ],
   "source": [
    "k = 13      #number of clusters\n",
    "\n",
    "score_means = []\n",
    "\n",
    "for i in range(k):\n",
    "    \n",
    "    l = list(df[df.cluster == i+1].ProductID)               #list of ProductId's inside cluster i+1\n",
    "    \n",
    "    d_l = data[data['ProductId'].isin(l)]                   #selecting only the rows of the original dataframe\n",
    "                                                             #that conatin the reviews for those particular products\n",
    "    score_means.append(d_l.Score.mean())\n",
    "    \n",
    "    #plot\n",
    "    d_l.Score.hist(bins=5)\n",
    "    plt.title(f'Score distribution of cluster {i+1}')\n",
    "    plt.show()"
   ]
  },
  {
   "cell_type": "code",
   "execution_count": 217,
   "metadata": {},
   "outputs": [
    {
     "name": "stdout",
     "output_type": "stream",
     "text": [
      "mean of scores in cluster 1: 4.173\n",
      "mean of scores in cluster 2: 4.156\n",
      "mean of scores in cluster 3: 4.327\n",
      "mean of scores in cluster 4: 4.136\n",
      "mean of scores in cluster 5: 4.441\n",
      "mean of scores in cluster 6: 4.185\n",
      "mean of scores in cluster 7: 4.445\n",
      "mean of scores in cluster 8: 4.144\n",
      "mean of scores in cluster 9: 4.12\n",
      "mean of scores in cluster 10: 4.131\n",
      "mean of scores in cluster 11: 4.419\n",
      "mean of scores in cluster 12: 4.336\n",
      "mean of scores in cluster 13: 4.335\n",
      "\n",
      "The maximum value is: 4.445 while the minimum is: 4.12\n"
     ]
    }
   ],
   "source": [
    "for i in range(1,len(score_means)+1):\n",
    "    print(f'mean of scores in cluster {i}: {round(score_means[i-1],3)}')\n",
    "\n",
    "print(f'\\nThe maximum value is: {round(max(score_means),3)} while the minimum is: {round(min(score_means),3)}')"
   ]
  },
  {
   "cell_type": "markdown",
   "metadata": {},
   "source": [
    "As we can see, although the number of products in each cluster in extremely different, the mean of the scores that the users give to the products in each cluster is basically the same, and is a very high value, always greater than 4"
   ]
  },
  {
   "cell_type": "markdown",
   "metadata": {},
   "source": [
    "### 4. Get the number of unique users writing reviews in each cluster "
   ]
  },
  {
   "cell_type": "code",
   "execution_count": 177,
   "metadata": {
    "scrolled": true
   },
   "outputs": [
    {
     "name": "stdout",
     "output_type": "stream",
     "text": [
      "number of unique users writing reviews in cluster 1: 10878\n",
      "number of unique users writing reviews in cluster 2: 175626\n",
      "number of unique users writing reviews in cluster 3: 22916\n",
      "number of unique users writing reviews in cluster 4: 12218\n",
      "number of unique users writing reviews in cluster 5: 2474\n",
      "number of unique users writing reviews in cluster 6: 8718\n",
      "number of unique users writing reviews in cluster 7: 7823\n",
      "number of unique users writing reviews in cluster 8: 3767\n",
      "number of unique users writing reviews in cluster 9: 200\n",
      "number of unique users writing reviews in cluster 10: 31982\n",
      "number of unique users writing reviews in cluster 11: 7635\n",
      "number of unique users writing reviews in cluster 12: 1409\n",
      "number of unique users writing reviews in cluster 13: 6317\n"
     ]
    }
   ],
   "source": [
    "k = 13      #number of clusters\n",
    "\n",
    "for i in range(k):\n",
    "    \n",
    "    l = list(df[df.cluster == i+1].ProductID)                   #list of ProductId's inside cluster i+1\n",
    "    \n",
    "    d_l = data[data['ProductId'].isin(l)]                       #selecting only the rows of the original dataframe\n",
    "                                                                  #that conatin the reviews for those particular products\n",
    "    \n",
    "    number_of_users = len(d_l.UserId.unique())                  #number of unique users in those rows selected \n",
    "    \n",
    "    print(f'number of unique users writing reviews in cluster {i+1}: {number_of_users}')"
   ]
  }
 ],
 "metadata": {
  "kernelspec": {
   "display_name": "Python 3",
   "language": "python",
   "name": "python3"
  }
 },
 "nbformat": 4,
 "nbformat_minor": 4
}
