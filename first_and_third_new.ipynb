{
 "cells": [
  {
   "cell_type": "code",
   "execution_count": 113,
   "metadata": {},
   "outputs": [],
   "source": [
    "import random \n",
    "import numpy as np\n",
    "import math"
   ]
  },
  {
   "cell_type": "code",
   "execution_count": 123,
   "metadata": {},
   "outputs": [],
   "source": [
    "file=open('hash.txt','r')\n",
    "string_list=file.read().split('\\n')\n",
    "file.close()"
   ]
  },
  {
   "cell_type": "code",
   "execution_count": 127,
   "metadata": {},
   "outputs": [],
   "source": [
    "el_list=string_list[:1000000]"
   ]
  },
  {
   "cell_type": "code",
   "execution_count": 86,
   "metadata": {},
   "outputs": [],
   "source": [
    "def hash_fun(string,n):\n",
    "    if len(string)!=0:\n",
    "        random.seed(20) \n",
    "        x,y,z=random.sample(range(1,n),3)\n",
    "        hashed_up=(int(string[:13],16)*x + int(string[13:26],16)*y + int(string[26:],16)*z) % n\n",
    "        l=len(bin(hashed_up)[2:])\n",
    "        return '0'*(32-l)+bin(hashed_up)[2:]\n",
    "    else:\n",
    "        return'0'*32"
   ]
  },
  {
   "cell_type": "code",
   "execution_count": 51,
   "metadata": {},
   "outputs": [],
   "source": [
    "def alpha_value(m):\n",
    "    if m==16: alpha=0.673\n",
    "    if m==32: alpha=0.697\n",
    "    if m==64: alpha=0.709\n",
    "    if m>=128: alpha=0.7213/(1+1.079/m)\n",
    "    return alpha"
   ]
  },
  {
   "cell_type": "code",
   "execution_count": 100,
   "metadata": {},
   "outputs": [],
   "source": [
    "def num_zeros(string):\n",
    "    binary_string=str(bin(int(string,16)))\n",
    "    stop=False\n",
    "    counter=-1\n",
    "    while(stop==False):\n",
    "        if(binary_string[counter]=='0'):\n",
    "            counter-=1\n",
    "        if(binary_string[counter]!='0'):\n",
    "            number_of_zeros=-1-counter\n",
    "            stop=True\n",
    "    return number_of_zeros\n",
    "# This function simply counts the number of zeros."
   ]
  },
  {
   "cell_type": "code",
   "execution_count": 2,
   "metadata": {},
   "outputs": [],
   "source": [
    "def leftmost_onebit(bin_str):\n",
    "    i=1\n",
    "    while bin_str[i-1]==0 and i-1<len(bin_str):\n",
    "        i+=1\n",
    "    return i"
   ]
  },
  {
   "cell_type": "code",
   "execution_count": 124,
   "metadata": {},
   "outputs": [],
   "source": [
    "def HLL(my_list,b,hashing): # We can choose b from {4,5,...,16}\n",
    "    m=2**b\n",
    "    buckets=[0]*m\n",
    "    for string in my_list:\n",
    "        x=hash_fun(string,hashing)\n",
    "        j=1+int(x[:b-1],2)\n",
    "        w=x[b:]\n",
    "        if leftmost_onebit(w) > buckets[j]:\n",
    "                buckets[j]= leftmost_onebit(string)\n",
    "    alpha=alpha_value(m)\n",
    "    E=alpha*m**2*(1/np.sum([2**(-buck) for buck in buckets]))\n",
    "    if E<=(5/2)*m:\n",
    "        V=0\n",
    "        for buck in buckets:\n",
    "            if buck==0: V+=1\n",
    "        if V!=0:\n",
    "            E_F=m*math.log(m/V)\n",
    "    if E< 1/30 *(2**32):\n",
    "        E_F=E\n",
    "    if E> 1/30 *(2**32):\n",
    "        E_F=-(2**32)*math.log(1-E/(2**32))\n",
    "    return E_F"
   ]
  },
  {
   "cell_type": "code",
   "execution_count": 135,
   "metadata": {},
   "outputs": [
    {
     "data": {
      "text/plain": [
       "47270.69917692741"
      ]
     },
     "execution_count": 135,
     "metadata": {},
     "output_type": "execute_result"
    }
   ],
   "source": [
    "HLL(el_list,16,200)"
   ]
  },
  {
   "cell_type": "markdown",
   "metadata": {},
   "source": [
    "--------------------------------------------"
   ]
  },
  {
   "cell_type": "code",
   "execution_count": null,
   "metadata": {},
   "outputs": [],
   "source": [
    "def my_hash(string):\n",
    "    integer = int(string,16)\n",
    "    binary = format(((a*integer+b)%p)%m, '032b')\n",
    "    return binary\n",
    "\n",
    "def tail_zeros(b):\n",
    "    i = 1\n",
    "    while b[-i] == '0' and i<len(b):\n",
    "        i+=1\n",
    "    return i\n",
    "\n",
    "def my_HLL(file,nlines):\n",
    "    f = open(file, \"r\")\n",
    "    B = []\n",
    "    buckets = [0]*m\n",
    "    for n in range(0,nlines):\n",
    "        req = f.readline(n)\n",
    "        binary = hash_fun(req)\n",
    "        index = 1+int(binary[:p-1],2)\n",
    "        zeros = tail_zeros(binary[3:])\n",
    "        buckets[index]=max(buckets[index],zeros) \n",
    "    card = cardinality(buckets,m)\n",
    "    return card\n",
    "\n",
    "def cardinality(buckets,m):\n",
    "    Z = 1/sum([2**(-bucket-1) for bucket in buckets])\n",
    "    alfa_m = 0.7213/(1+1.079/(2**m))\n",
    "    E = alfa_m*(m**2)*Z\n",
    "    return E\n",
    "\n",
    "p = 16\n",
    "m = 2**p\n",
    "n = 139000003\n",
    "a = np.random.randint(0,n)\n",
    "b = np.random.randint(0,n)\n",
    "\n",
    "start = time.time()\n",
    "my_card = my_HLL('hash.txt',139000000)\n",
    "end = time.time()\n",
    "\n",
    "print('Execution time is:',end-start, ' seconds' )\n",
    "print('Experimental error:',real_len/(abs(real_len-card)/card)*100)\n",
    "print(my_card)"
   ]
  },
  {
   "cell_type": "markdown",
   "metadata": {},
   "source": [
    "### 3.Algorithmic question\n",
    "https://www.youtube.com/watch?v=3mxp4JLGasE&ab_channel=UNSWeLearning <br>\n",
    "You are given an array with A with n integer numbers. <br>\n",
    "Let s = min{ A[1], ..., A[n] } and b = max { A[1], ..., A[n] }. <br>\n",
    "Let r = b - s <br>\n",
    "Prove that we can sort A in time O(n + r). <br>\n",
    "<br>\n",
    "We know that we have integers between b and s and the difference between them is r. So we can consider Bucket sort or bin sort which is a sorting algorithm that works by distributing the elements of an array into a number of buckets. Each bucket is then sorted individually, either using a different sorting algorithm, or by recursively applying the bucket sorting algorithm. But since here we have integers we should not worry about 2 or more different objects being put in the same bucket. This is how it works: <br>\n",
    "At first we have to create r+1 buckets after we have to scroll down our array for each element and assign each integer to its specific bucket so the runtime for this operation is just n, Then we have to join and combine all the buckets together so one more r+1. The total run time for this algorithm is:$O(2(r+1)+n)=O(r+n)$ <br>\n",
    "Below we also see how it works as well:\n",
    "First we create Buckets: $\\;\\;\\;\\;\\;\\;$    $Bucket[s],...,Bucket[b]$ <br>\n",
    "Then we scroll down the list from $A[1]$ to $A[n]$ and assign each ineger to a bucket and since we have max and min all the other integers will be surely included. <br>\n",
    "And then we simply combine the buckets in order of $Bucket[s]$ to $ Bucket[b]$. And we will have our final array:<br> \n",
    "$Sorted\\;array=[elements \\; in \\; Bucket[s],...,elements \\; in \\; Bucket[b]]$\n",
    "\n",
    "**comment**\n",
    "what about couting sort? http://didawiki.cli.di.unipi.it/lib/exe/fetch.php/informatica/all-a/cormen-contingradixsort.pdf"
   ]
  },
  {
   "cell_type": "code",
   "execution_count": null,
   "metadata": {},
   "outputs": [],
   "source": []
  }
 ],
 "metadata": {
  "kernelspec": {
   "display_name": "Python 3",
   "language": "python",
   "name": "python3"
  },
  "language_info": {
   "codemirror_mode": {
    "name": "ipython",
    "version": 3
   },
   "file_extension": ".py",
   "mimetype": "text/x-python",
   "name": "python",
   "nbconvert_exporter": "python",
   "pygments_lexer": "ipython3",
   "version": "3.8.3"
  }
 },
 "nbformat": 4,
 "nbformat_minor": 4
}
