{
 "cells": [
  {
   "cell_type": "code",
   "execution_count": 2,
   "metadata": {},
   "outputs": [],
   "source": [
    "from sklearn.cluster import KMeans\n",
    "import numpy as np\n",
    "import math\n",
    "import matplotlib.pyplot as plt\n",
    "import statistics\n",
    "import pandas as pd\n",
    "from tqdm import tqdm\n",
    "import seaborn as sns\n",
    "import random\n",
    "import hyperloglog"
   ]
  },
  {
   "cell_type": "markdown",
   "metadata": {},
   "source": [
    "## 1. HASHING"
   ]
  },
  {
   "cell_type": "markdown",
   "metadata": {},
   "source": [
    "- https://en.wikipedia.org/wiki/Fowler%E2%80%93Noll%E2%80%93Vo_hash_function#FNV-1_hash\n",
    "- https://github.com/sup/pyhash/blob/master/pyhash/pyhash.py\n",
    "- https://www.geeksforgeeks.org/what-are-hash-functions-and-how-to-choose-a-good-hash-function/\n",
    "- http://www.euroinformatica.ro/documentation/programming/!!!Algorithms_CORMEN!!!/DDU0066.html\n",
    "- https://github.com/svpcom/hyperloglog"
   ]
  },
  {
   "cell_type": "code",
   "execution_count": null,
   "metadata": {},
   "outputs": [],
   "source": [
    "def importing_requests(file):\n",
    "    f=open(file,'r')\n",
    "    requests = f.read().split('\\n')\n",
    "    return requests"
   ]
  },
  {
   "cell_type": "markdown",
   "metadata": {},
   "source": [
    "https://medium.com/@raghavan99o/hyperloglog-algorithm-part-i-flajolet-martin-algorithm-b4dcc9be3031"
   ]
  },
  {
   "cell_type": "code",
   "execution_count": null,
   "metadata": {},
   "outputs": [],
   "source": [
    "def convert(string):\n",
    "    s=0\n",
    "    for char in string:\n",
    "        s+=ord(char)\n",
    "    return int(s)"
   ]
  },
  {
   "cell_type": "code",
   "execution_count": null,
   "metadata": {},
   "outputs": [],
   "source": [
    "def my_hash(string):\n",
    "    n = 106033 # must be greater than expected size\n",
    "    IP = string\n",
    "    r = int(len(IP)/2)\n",
    "    q = [IP[:r//2],IP[r//2:r],IP[r:r+r//2],IP[r+r//2:]]\n",
    "    a=[2,17,4,32]\n",
    "    h=0\n",
    "\n",
    "    for i in range(4):\n",
    "        x = int(convert(q[i]))\n",
    "        h += (x*a[i])%n\n",
    "    return str(bin(h).split('b')[1])"
   ]
  },
  {
   "cell_type": "code",
   "execution_count": null,
   "metadata": {},
   "outputs": [],
   "source": [
    "# 125000001 real len of set\n",
    "\n",
    "def HLL_real(file,nlines):\n",
    "    f = open(file, \"r\")\n",
    "    hll = hyperloglog.HyperLogLog(0.01)  # accept 1% counting error\n",
    "    for n in range(1,nlines):\n",
    "        req = f.readline(n)\n",
    "        hll.add(h)\n",
    "    \n",
    "    return len(hll) "
   ]
  },
  {
   "cell_type": "markdown",
   "metadata": {},
   "source": [
    "https://pangaj.github.io/HyperLogLog/"
   ]
  },
  {
   "cell_type": "code",
   "execution_count": null,
   "metadata": {},
   "outputs": [],
   "source": [
    "def tail_zeros(b):\n",
    "    i = 1\n",
    "    while b[-i] == '0' and i<len(b):\n",
    "        i+=1\n",
    "    return i"
   ]
  },
  {
   "cell_type": "code",
   "execution_count": null,
   "metadata": {},
   "outputs": [],
   "source": [
    "def HLL(file,nlines):\n",
    "    f = open(file, \"r\")\n",
    "    B = []\n",
    "    buckets = [0]*4\n",
    "    for n in range(1,nlines): # 139000000, 100001\n",
    "        req = f.readline(n)\n",
    "        b = my_hash(req)\n",
    "        B.append(b[1:])\n",
    "        index = int(b[1])*2 + int(b[2]) \n",
    "        zeros = tail_zeros(b[2:])\n",
    "        buckets[index]=max(buckets[index],zeros) \n",
    "    cardinality = 2**np.mean(buckets)\n",
    "    #loglog = np.log(np.log(cardinality))\n",
    "    error = (1.3/math.sqrt(4))*(n/100)\n",
    "    return cardinality, buckets, error, B"
   ]
  },
  {
   "cell_type": "code",
   "execution_count": null,
   "metadata": {},
   "outputs": [],
   "source": [
    "c,b,e,B = HLL('small.txt',100001)"
   ]
  },
  {
   "cell_type": "code",
   "execution_count": null,
   "metadata": {},
   "outputs": [],
   "source": [
    "print(HLL_real('small.txt',100001))"
   ]
  },
  {
   "cell_type": "markdown",
   "metadata": {},
   "source": [
    "## 2. CLUSTERING"
   ]
  },
  {
   "cell_type": "markdown",
   "metadata": {},
   "source": [
    "#### Importing dataset"
   ]
  },
  {
   "cell_type": "code",
   "execution_count": 3,
   "metadata": {},
   "outputs": [],
   "source": [
    "dataset = pd.read_csv('Reviews.csv',nrows=1000)\n",
    "dataset['ProfileName'].fillna('',inplace=True)\n",
    "dataset['Summary'].fillna('',inplace=True)\n",
    "dataset.set_index('Id',inplace=True)\n",
    "pd.to_datetime(dataset.iloc[8].Time,unit='s')\n",
    "dataset['Datetime'] = dataset.Time.apply(lambda value: pd.to_datetime(value, unit='s'))"
   ]
  },
  {
   "cell_type": "markdown",
   "metadata": {},
   "source": [
    "#### Preprocessing"
   ]
  },
  {
   "cell_type": "code",
   "execution_count": 4,
   "metadata": {},
   "outputs": [],
   "source": [
    "def preprocessing(file):\n",
    "    # TF-IDF\n",
    "    # SVD method\n",
    "    # remove very common words\n",
    "    return df"
   ]
  },
  {
   "cell_type": "markdown",
   "metadata": {},
   "source": [
    "### K-Means"
   ]
  },
  {
   "cell_type": "markdown",
   "metadata": {},
   "source": [
    "Testing with random distance matrix"
   ]
  },
  {
   "cell_type": "code",
   "execution_count": 5,
   "metadata": {},
   "outputs": [],
   "source": [
    "N = 100\n",
    "b = np.random.uniform(0, 1, size=(N,N))\n",
    "m = (b + b.T)/2"
   ]
  },
  {
   "cell_type": "markdown",
   "metadata": {},
   "source": [
    "K-means algorithm that is inizialized with random points and a number of clusters k. It returns a dictionary where the keys are the cluster ids, the ids of the random centroids, the clusters id associated to each centroid and the within cluster squared score."
   ]
  },
  {
   "cell_type": "code",
   "execution_count": 6,
   "metadata": {},
   "outputs": [],
   "source": [
    "def kmeans(k, matrix,centroids):   \n",
    "    n_clusters = dict(zip(centroids,range(k)))            # cluster number centroids\n",
    "    clusters = {i: [] for i in range(k)}                  # empty dictionary for clusters\n",
    "    WSS = {i: 0 for i in range(k)}                        # will be used to calculate within cluster sum of squares\n",
    "    for point in range(len(matrix)):                      # for each point \n",
    "        dist = 1                                          # we assume max dist in a range 0-1\n",
    "        for center in centroids:                          # for each centroid\n",
    "            if matrix[point][center] < dist:              # we check if the distance between the point and the centroid is smaller than the previous dist\n",
    "                cluster_id = n_clusters[center]           # assignes to cluster is k\n",
    "                dist = matrix[point][center]              # update distance\n",
    "        clusters[cluster_id].append(point)                # update with best cluster\n",
    "        WSS[cluster_id]+=dist                             # updating the chosed cluster with the squared distance \n",
    "    WSS = np.mean([WSS[i]/len(clusters[i]) for i in range(k)])  # calculate mean distance for each cluster\n",
    "    return clusters, centroids, n_clusters, WSS"
   ]
  },
  {
   "cell_type": "markdown",
   "metadata": {},
   "source": [
    "### Evaluating optimal number of clusters: \n",
    "Links: \n",
    "- https://www.datanovia.com/en/lessons/determining-the-optimal-number-of-clusters-3-must-know-methods/\n",
    "- https://www.youtube.com/watch?v=AtxQ0rvdQIA\n",
    "- https://medium.com/@cmukesh8688/silhouette-analysis-in-k-means-clustering-cefa9a7ad111\n",
    "- https://towardsdatascience.com/k-means-clustering-and-the-gap-statistics-4c5d414acd29\n",
    "- https://github.com/Mavengence/Pattern_Analysis_SS20_FAU/blob/master/Exercise_6.ipynb"
   ]
  },
  {
   "cell_type": "markdown",
   "metadata": {},
   "source": [
    "**Elbow method**: \n",
    "- Compute clustering algorithm for different values of k.\n",
    "- For each k, calculate the total within-cluster sum of square (wss).\n",
    "- Plot the curve of wss according to the number of clusters k.\n",
    "- The location of a bend (knee) in the plot is generally considered as an indicator of the appropriate number of clusters.\n",
    "WSS: measures the squared average distance of all the points within a cluster to the cluster centroid. To calculate WCSS, you first find the Euclidean distance between a given point and the centroid to which it is assigned. You then iterate this process for all points in the cluster, and then sum the values for the cluster and divide by the number of points. Finally, you calculate the average across all clusters. "
   ]
  },
  {
   "cell_type": "code",
   "execution_count": 7,
   "metadata": {},
   "outputs": [],
   "source": [
    "def elbow_method(matrix,threshold):\n",
    "    elbow = []\n",
    "    ks = range(5,20)\n",
    "    for k in ks:                                              # for each number of clusters\n",
    "        centroids = random.sample(range(1, len(matrix)), k)   # pick random points\n",
    "        clusters, centers, n_clusters, WSS = kmeans(k,matrix,centroids)\n",
    "        elbow.append(WSS)                                     # we append for each iteration the WSS score\n",
    "    i = 1                                                     \n",
    "    optimal = 0                                               # we want to best compromise btw low n of clusters and low WSS\n",
    "    while elbow[i-1] - elbow[i] > elbow[i]*threshold:         # we stop when the variation is lower then a certain percentage of the WSS value at that iteration        \n",
    "        i+=1\n",
    "        optimal = elbow[i]\n",
    "    \n",
    "    print('Elbow method: Optimal number of clusters is',ks[i])\n",
    "    plt.figure(figsize=(8,5));\n",
    "    plt.plot(ks,elbow);\n",
    "    return elbow, ks[i]"
   ]
  },
  {
   "cell_type": "markdown",
   "metadata": {},
   "source": [
    "**Silhouette method**:\n",
    "- We vary k from 1 to 10 clusters.\n",
    "- For each k, calculate the average silhouette of observations\n",
    "- Plot the curve of avg.sil according to the number of clusters k.\n",
    "- The location of the maximum is considered as the appropriate number of clusters"
   ]
  },
  {
   "cell_type": "code",
   "execution_count": 8,
   "metadata": {},
   "outputs": [],
   "source": [
    "def silhouette_method(matrix):\n",
    "    ks = range(5,20)\n",
    "    points = {i: {} for i in ks} \n",
    "    scores = {}\n",
    "    for k in ks:                                                      # for each number of clusters\n",
    "        centroids = random.sample(range(1, len(matrix)), k)           # pick random points\n",
    "        clusters, centers, n_clusters, WSS = kmeans(k,matrix,centroids)# we apply k-means\n",
    "        s_score = {}\n",
    "        points = {}                                                   # add a dictionary where keys are the point and clusters id are the value\n",
    "        for cluster in clusters.keys():                               # for each cluster in k-means\n",
    "            points.update(dict(zip(clusters[cluster],[cluster]*len(clusters[cluster])))) # update points dictionary\n",
    "        for point1 in points.keys():                                  # for each point\n",
    "            point1_cluster = points[point1]                           # we extract its cluster\n",
    "            in_distance = 0\n",
    "            out_distance = 0\n",
    "            points_in = clusters[point1_cluster]                      # points in same cluster\n",
    "            points_out = set(points.keys()).difference(set(points_in))# any other point\n",
    "            for point2 in points_in:                                  # for each point in the same cluster\n",
    "                in_distance+=matrix[point1][point2]                   # we add distance btw point1 and point2 to in_distance\n",
    "            for point2 in points_out:                                 # for each any other point \n",
    "                out_distance+=matrix[point1][point2]                  # we add distance btw point1 and point2 to out_distance\n",
    "            avarage_in = in_distance/len(points_in)                   # we compute avarage distance for both\n",
    "            avarage_out = out_distance/len(points_out)\n",
    "            s = (avarage_out-avarage_in)/max(avarage_in,avarage_out)  # we calculate silhouette score\n",
    "            s_score[point1]=s                                         # we store sil_score for each point\n",
    "        scores[k]=s_score\n",
    "    df=pd.DataFrame.from_dict(scores)\n",
    "    print('Silhouette method: Optimal number of clusters is',df.columns[df.sum().argmax()])\n",
    "    return scores, df.columns[df.sum().argmax()]"
   ]
  },
  {
   "cell_type": "markdown",
   "metadata": {},
   "source": [
    "#### Trying different random initializations"
   ]
  },
  {
   "cell_type": "code",
   "execution_count": 13,
   "metadata": {},
   "outputs": [],
   "source": [
    "def kmeans_optimize(k,matrix,iterations):\n",
    "    \n",
    "    # inizialization\n",
    "    plot_data={}\n",
    "    all_wss = []\n",
    "    all_centers = []\n",
    "    \n",
    "    # simulations\n",
    "    for i in range(iterations):                               # for each simulation\n",
    "        centroids = random.sample(range(1, len(matrix)), k)     # pick random points\n",
    "        itr = []\n",
    "        clusters, centers, n_clusters, WSS = kmeans(k,matrix,centroids) # a different set of random centroids is generated\n",
    "        for n in n_clusters.values():                         # for each cluster \n",
    "            itr.append(len(clusters[n])/len(m))               # we save the percentage of point it contains\n",
    "        plot_data['iter_'+str(i)]=itr                         # save data to plot for each iteration\n",
    "        all_wss.append(WSS)                                   # save WSS for each iteration\n",
    "        all_centers.append(centers)                           # save centroids\n",
    "    \n",
    "    # plotting\n",
    "    colors = sns.color_palette(\"Pastel1\")\n",
    "    pd.DataFrame.from_dict(plot_data,orient='index').plot.barh(stacked=True,color=colors, figsize=(8,5))\n",
    "    plt.legend(loc='best',bbox_to_anchor=(0.7,0.5, 0.5, 0.5));\n",
    "    \n",
    "    # defining best result\n",
    "    best = all_wss.index(min(all_wss))                       # the best result is that with lowest wss score\n",
    "    print('The best iteration is', best,' whith centroids:', all_centers[best])\n",
    "    return plot_data,all_centers,all_wss,best"
   ]
  },
  {
   "cell_type": "code",
   "execution_count": 14,
   "metadata": {},
   "outputs": [],
   "source": [
    "def initialize(matrix,iterations):\n",
    "    \n",
    "    # optimal number of clusters methods:\n",
    "    # 1. elbow method\n",
    "    scores_e, e = elbow_method(matrix,0.02)\n",
    "    # 2. silhouette method\n",
    "    scores_s, s = silhouette_method(matrix)\n",
    "    # 3. gap statistic method\n",
    "    \n",
    "    # best number of clouds\n",
    "    k = (e+s)//2\n",
    "    \n",
    "    # randomly picking points\n",
    "    plot_data,all_centers,all_wss,best = kmeans_optimize(k,m,iterations)\n",
    "    centroids = all_centers[best]\n",
    "    \n",
    "    return centroids, k"
   ]
  },
  {
   "cell_type": "code",
   "execution_count": 15,
   "metadata": {},
   "outputs": [
    {
     "name": "stdout",
     "output_type": "stream",
     "text": [
      "Elbow method: Optimal number of clusters is 7\n",
      "Silhouette method: Optimal number of clusters is 19\n",
      "The best iteration is 0  whith centroids: [52, 50, 19, 95, 77, 31, 36, 66, 10, 81, 4, 84, 65]\n"
     ]
    },
    {
     "data": {
      "image/png": "[encoded data removed]",
      "text/plain": [
       "<Figure size 576x360 with 1 Axes>"
      ]
     },
     "metadata": {
      "needs_background": "light"
     },
     "output_type": "display_data"
    },
    {
     "data": {
      "image/png": "[encoded data removed]",
      "text/plain": [
       "<Figure size 576x360 with 1 Axes>"
      ]
     },
     "metadata": {
      "needs_background": "light"
     },
     "output_type": "display_data"
    }
   ],
   "source": [
    "optimal_centroids, optimal_k = initialize(m,5)"
   ]
  },
  {
   "cell_type": "code",
   "execution_count": 16,
   "metadata": {},
   "outputs": [
    {
     "data": {
      "text/plain": [
       "{0: [3, 17, 23, 29, 38, 65, 82],\n",
       " 1: [0, 32, 43, 51, 81, 89, 97],\n",
       " 2: [11, 12, 21, 26, 27, 30, 31, 53, 72, 84, 94, 96],\n",
       " 3: [2, 4, 5, 6, 44, 70, 78, 90],\n",
       " 4: [14, 37, 39, 63, 73, 74, 79, 80, 91],\n",
       " 5: [8, 13, 19, 55, 64, 67, 76, 83, 88, 98, 99],\n",
       " 6: [20, 24, 35, 49, 58, 60, 71],\n",
       " 7: [9, 42, 68, 69, 77],\n",
       " 8: [1, 10, 34, 40, 46, 47, 56, 59, 92],\n",
       " 9: [15, 33, 50, 54, 61],\n",
       " 10: [16, 25, 28, 41, 66, 85, 95],\n",
       " 11: [18, 22, 48, 62, 86, 87, 93],\n",
       " 12: [7, 36, 45, 52, 57, 75]}"
      ]
     },
     "execution_count": 16,
     "metadata": {},
     "output_type": "execute_result"
    }
   ],
   "source": [
    "clusters, centroids, n_clusters, WSS= kmeans(optimal_k,m,optimal_centroids)\n",
    "clusters"
   ]
  },
  {
   "cell_type": "markdown",
   "metadata": {},
   "source": [
    "### Comapring to built in k-means ++"
   ]
  },
  {
   "cell_type": "code",
   "execution_count": null,
   "metadata": {},
   "outputs": [],
   "source": [
    "def k_means_pp(reviews):\n",
    "    # built in https://scikit-learn.org/stable/modules/generated/sklearn.cluster.KMeans.html\n",
    "    return clusters2"
   ]
  },
  {
   "cell_type": "code",
   "execution_count": null,
   "metadata": {},
   "outputs": [],
   "source": [
    "def compare(clusters1,clusters2):\n",
    "    return comparison"
   ]
  },
  {
   "cell_type": "markdown",
   "metadata": {},
   "source": [
    "### Visualizing results"
   ]
  },
  {
   "cell_type": "code",
   "execution_count": null,
   "metadata": {},
   "outputs": [],
   "source": [
    "def word_cloud(cluster):\n",
    "    return plots"
   ]
  },
  {
   "cell_type": "code",
   "execution_count": null,
   "metadata": {},
   "outputs": [],
   "source": [
    "def score_distribution(cluster):\n",
    "    return score"
   ]
  },
  {
   "cell_type": "code",
   "execution_count": null,
   "metadata": {},
   "outputs": [],
   "source": [
    "def analyze(clusters):\n",
    "    for cluster in clusters:\n",
    "        plots = word_cloud(cluster)\n",
    "        numberOfProds = set(df.products)\n",
    "        scoreDistro = score_distribution(cluster)\n",
    "        uniqueUsers = set(df.users)\n",
    "    return plots, numberOfProds, scoreDistro, uniqueUsers"
   ]
  },
  {
   "cell_type": "markdown",
   "metadata": {},
   "source": [
    "## 3. ARLGORITHM\n",
    "Prove that we can sort A in time O(n + r).\n",
    "https://it.wikipedia.org/wiki/Counting_sort"
   ]
  },
  {
   "cell_type": "code",
   "execution_count": null,
   "metadata": {},
   "outputs": [],
   "source": [
    "s = min{ A[1], ..., A[n] } \n",
    "b = max { A[1], ..., A[n] }.\n",
    "r = b - s"
   ]
  }
 ],
 "metadata": {
  "kernelspec": {
   "display_name": "Python 3",
   "language": "python",
   "name": "python3"
  },
  "language_info": {
   "codemirror_mode": {
    "name": "ipython",
    "version": 3
   },
   "file_extension": ".py",
   "mimetype": "text/x-python",
   "name": "python",
   "nbconvert_exporter": "python",
   "pygments_lexer": "ipython3",
   "version": "3.8.3"
  }
 },
 "nbformat": 4,
 "nbformat_minor": 4
}
