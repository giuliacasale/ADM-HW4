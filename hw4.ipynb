{
 "cells": [
  {
   "cell_type": "code",
   "execution_count": 1,
   "metadata": {},
   "outputs": [],
   "source": [
    "from sklearn.cluster import KMeans\n",
    "import numpy as np\n",
    "import math\n",
    "import matplotlib.pyplot as plt\n",
    "import statistics\n",
    "import pandas as pd\n",
    "from tqdm import tqdm\n",
    "import seaborn as sns\n",
    "import random"
   ]
  },
  {
   "cell_type": "markdown",
   "metadata": {},
   "source": [
    "## 1. HASHING"
   ]
  },
  {
   "cell_type": "markdown",
   "metadata": {},
   "source": [
    "- https://en.wikipedia.org/wiki/Fowler%E2%80%93Noll%E2%80%93Vo_hash_function#FNV-1_hash\n",
    "- https://github.com/sup/pyhash/blob/master/pyhash/pyhash.py\n",
    "- https://www.geeksforgeeks.org/what-are-hash-functions-and-how-to-choose-a-good-hash-function/\n",
    "- http://www.euroinformatica.ro/documentation/programming/!!!Algorithms_CORMEN!!!/DDU0066.html"
   ]
  },
  {
   "cell_type": "code",
   "execution_count": 2,
   "metadata": {},
   "outputs": [],
   "source": [
    "def importing_requests(file):\n",
    "    f=open(file,'r')\n",
    "    requests = f.read().split('\\n')\n",
    "    return requests"
   ]
  },
  {
   "cell_type": "code",
   "execution_count": 3,
   "metadata": {},
   "outputs": [
    {
     "name": "stdout",
     "output_type": "stream",
     "text": [
      "ff96d6665b5c59d3a70bb8f2ba4f10be\n",
      "100001\n"
     ]
    }
   ],
   "source": [
    "requests = importing_requests('small.txt')\n",
    "print(requests[1])\n",
    "print(len(requests))"
   ]
  },
  {
   "cell_type": "code",
   "execution_count": 4,
   "metadata": {},
   "outputs": [],
   "source": [
    "def bits_32(string,size):\n",
    "    h=0\n",
    "    for char in string:\n",
    "        h+=ord(char)\n",
    "    return '{:032b}'.format(int(int(h)%size))"
   ]
  },
  {
   "cell_type": "code",
   "execution_count": 5,
   "metadata": {},
   "outputs": [],
   "source": [
    "def hyperloglog(file):\n",
    "    requests = importing_requests(file)\n",
    "    L = len(importing_requests(file))\n",
    "    buckets = [0]*4\n",
    "    for idx in range(L-1):\n",
    "        B = bits_32(requests[idx],len(requests))\n",
    "        #print(B,'\\n')\n",
    "        e1 = int(B[0])\n",
    "        e2 = int(B[1])\n",
    "        index = e1*2 + e2\n",
    "        i = 1\n",
    "        while B[-i] == '0':\n",
    "            i+=1\n",
    "        n_zeros = i\n",
    "        buckets[index]=max(buckets[index],n_zeros) \n",
    "    cardinality = 2**np.mean(buckets)\n",
    "    loglog = np.log(np.log(cardinality))\n",
    "    return (cardinality,buckets,loglog)"
   ]
  },
  {
   "cell_type": "code",
   "execution_count": 6,
   "metadata": {},
   "outputs": [],
   "source": [
    "cardinality, buckets, loglog = hyperloglog('small.txt')"
   ]
  },
  {
   "cell_type": "code",
   "execution_count": 7,
   "metadata": {},
   "outputs": [
    {
     "name": "stdout",
     "output_type": "stream",
     "text": [
      "8.0\n",
      "[12, 0, 0, 0]\n",
      "0.7320993680864453\n"
     ]
    }
   ],
   "source": [
    "print(cardinality)\n",
    "print(buckets)\n",
    "print(loglog)"
   ]
  },
  {
   "cell_type": "code",
   "execution_count": 8,
   "metadata": {},
   "outputs": [
    {
     "name": "stdout",
     "output_type": "stream",
     "text": [
      "0.9192388155425117\n"
     ]
    }
   ],
   "source": [
    "error = 1.3/math.sqrt(2)\n",
    "print(error)"
   ]
  },
  {
   "cell_type": "markdown",
   "metadata": {},
   "source": [
    "## 2. CLUSTERING"
   ]
  },
  {
   "cell_type": "markdown",
   "metadata": {},
   "source": [
    "#### Importing dataset"
   ]
  },
  {
   "cell_type": "code",
   "execution_count": 9,
   "metadata": {},
   "outputs": [],
   "source": [
    "dataset = pd.read_csv('Reviews.csv',nrows=1000)\n",
    "dataset['ProfileName'].fillna('',inplace=True)\n",
    "dataset['Summary'].fillna('',inplace=True)\n",
    "dataset.set_index('Id',inplace=True)\n",
    "pd.to_datetime(dataset.iloc[8].Time,unit='s')\n",
    "dataset['Datetime'] = dataset.Time.apply(lambda value: pd.to_datetime(value, unit='s'))"
   ]
  },
  {
   "cell_type": "markdown",
   "metadata": {},
   "source": [
    "#### Preprocessing"
   ]
  },
  {
   "cell_type": "code",
   "execution_count": 10,
   "metadata": {},
   "outputs": [],
   "source": [
    "def preprocessing(file):\n",
    "    # TF-IDF\n",
    "    # SVD method\n",
    "    # remove very common words\n",
    "    return df"
   ]
  },
  {
   "cell_type": "markdown",
   "metadata": {},
   "source": [
    "### K-Means"
   ]
  },
  {
   "cell_type": "markdown",
   "metadata": {},
   "source": [
    "Testing with random distance matrix"
   ]
  },
  {
   "cell_type": "code",
   "execution_count": 11,
   "metadata": {},
   "outputs": [],
   "source": [
    "N = 100\n",
    "b = np.random.uniform(0, 1, size=(N,N))\n",
    "m = (b + b.T)/2"
   ]
  },
  {
   "cell_type": "markdown",
   "metadata": {},
   "source": [
    "K-means algorithm that is inizialized with random points and a number of clusters k. It returns a dictionary where the keys are the cluster ids, the ids of the random centroids, the clusters id associated to each centroid and the within cluster squared score."
   ]
  },
  {
   "cell_type": "code",
   "execution_count": 12,
   "metadata": {},
   "outputs": [],
   "source": [
    "def kmeans(k, matrix):   \n",
    "    centers = random.sample(range(1, len(matrix)), k)     # pick random points\n",
    "    n_clusters = dict(zip(centers,range(k)))              # cluster number centroids\n",
    "    clusters = {i: [] for i in range(k)}                  # empty dictionary for clusters\n",
    "    WSS = {i: 0 for i in range(k)}                        # will be used to calculate within cluster sum of squares\n",
    "    for point in range(len(matrix)):                      # for each point \n",
    "        dist = 1                                          # we assume max dist in a range 0-1\n",
    "        for center in centers:                            # for each centroid\n",
    "            if matrix[point][center] < dist:              # we check if the distance between the point and the centroid is smaller than the previous dist\n",
    "                cluster_id = n_clusters[center]           # assignes to cluster is k\n",
    "                dist = matrix[point][center]              # update distance\n",
    "        clusters[cluster_id].append(point)                # update with best cluster\n",
    "        WSS[cluster_id]+=dist                             # updating the chosed cluster with the squared distance \n",
    "    WSS = np.mean([WSS[i]/len(clusters[i]) for i in range(k)])  # calculate mean distance for each cluster\n",
    "    return clusters, centers, n_clusters, WSS"
   ]
  },
  {
   "cell_type": "markdown",
   "metadata": {},
   "source": [
    "### Evaluating optimal number of clusters: \n",
    "Links: \n",
    "- https://www.datanovia.com/en/lessons/determining-the-optimal-number-of-clusters-3-must-know-methods/\n",
    "- https://www.youtube.com/watch?v=AtxQ0rvdQIA\n",
    "- https://medium.com/@cmukesh8688/silhouette-analysis-in-k-means-clustering-cefa9a7ad111\n",
    "- https://towardsdatascience.com/k-means-clustering-and-the-gap-statistics-4c5d414acd29\n",
    "- https://github.com/Mavengence/Pattern_Analysis_SS20_FAU/blob/master/Exercise_6.ipynb"
   ]
  },
  {
   "cell_type": "markdown",
   "metadata": {},
   "source": [
    "**Elbow method**: \n",
    "- Compute clustering algorithm for different values of k.\n",
    "- For each k, calculate the total within-cluster sum of square (wss).\n",
    "- Plot the curve of wss according to the number of clusters k.\n",
    "- The location of a bend (knee) in the plot is generally considered as an indicator of the appropriate number of clusters.\n",
    "WSS: measures the squared average distance of all the points within a cluster to the cluster centroid. To calculate WCSS, you first find the Euclidean distance between a given point and the centroid to which it is assigned. You then iterate this process for all points in the cluster, and then sum the values for the cluster and divide by the number of points. Finally, you calculate the average across all clusters. "
   ]
  },
  {
   "cell_type": "code",
   "execution_count": 13,
   "metadata": {},
   "outputs": [],
   "source": [
    "def elbow_method(matrix,threshold):\n",
    "    elbow = []\n",
    "    ks = range(5,20)\n",
    "    for k in ks:                                              # for each number of clusters\n",
    "        clusters, centers, n_clusters, WSS = kmeans(k,matrix) # we apply k-means\n",
    "        elbow.append(WSS)                                     # we append for each iteration the WSS score\n",
    "    i = 1                                                     \n",
    "    optimal = 0                                               # we want to best compromise btw low n of clusters and low WSS\n",
    "    while elbow[i-1] - elbow[i] > elbow[i]*threshold:         # we stop when the variation is lower then a certain percentage of the WSS value at that iteration        \n",
    "        i+=1\n",
    "        optimal = elbow[i]\n",
    "    \n",
    "    print('Optimal values is reached with',ks[i], 'clusters')\n",
    "    plt.figure(figsize=(8,5))\n",
    "    plt.plot(ks,elbow);\n",
    "    return elbow"
   ]
  },
  {
   "cell_type": "code",
   "execution_count": 14,
   "metadata": {},
   "outputs": [
    {
     "name": "stdout",
     "output_type": "stream",
     "text": [
      "Optimal values is reached with 8 clusters\n"
     ]
    },
    {
     "data": {
      "image/png": "[encoded data removed]",
      "text/plain": [
       "<Figure size 576x360 with 1 Axes>"
      ]
     },
     "metadata": {
      "needs_background": "light"
     },
     "output_type": "display_data"
    }
   ],
   "source": [
    "elbow = elbow_method(m,0.04)"
   ]
  },
  {
   "cell_type": "markdown",
   "metadata": {},
   "source": [
    "**Silhouette method**:\n",
    "- We vary k from 1 to 10 clusters.\n",
    "- For each k, calculate the average silhouette of observations\n",
    "- Plot the curve of avg.sil according to the number of clusters k.\n",
    "- The location of the maximum is considered as the appropriate number of clusters"
   ]
  },
  {
   "cell_type": "code",
   "execution_count": 15,
   "metadata": {},
   "outputs": [],
   "source": [
    "def silhouette_method(matrix):\n",
    "    ks = range(5,20)\n",
    "    points = {i: {} for i in ks} \n",
    "    scores = {}\n",
    "    for k in ks:                                                                 # for each number of clusters\n",
    "        clusters, centers, n_clusters, WSS = kmeans(k,matrix)                    # we apply k-means\n",
    "        s_score = {}\n",
    "        points = {}                                                              # add a dictionary where keys are the point and clusters id are the value\n",
    "        for cluster in clusters.keys():                                          # for each cluster in k-means\n",
    "            points.update(dict(zip(clusters[cluster],[cluster]*len(clusters[cluster])))) # update points dictionary\n",
    "        for point1 in points.keys():                                             # for each point\n",
    "            point1_cluster = points[point1]                                      # we extract its cluster\n",
    "            in_distance = 0\n",
    "            out_distance = 0\n",
    "            points_in = clusters[point1_cluster]                                 # points in same cluster\n",
    "            points_out = set(points.keys()).difference(set(points_in))           # any other point\n",
    "            for point2 in points_in:                                             # for each point in the same cluster\n",
    "                in_distance+=matrix[point1][point2]                              # we add distance btw point1 and point2 to in_distance\n",
    "            for point2 in points_out:                                            # for each any other point \n",
    "                out_distance+=matrix[point1][point2]                              # we add distance btw point1 and point2 to out_distance\n",
    "            avarage_in = in_distance/len(points_in)                              # we compute avarage distance for both\n",
    "            avarage_out = out_distance/len(points_out)\n",
    "            s = (avarage_out-avarage_in)/max(avarage_in,avarage_out)             # we calculate silhouette score\n",
    "            s_score[point1]=s                                                    # we store sil_score for each point\n",
    "        scores[k]=s_score\n",
    "    return scores"
   ]
  },
  {
   "cell_type": "code",
   "execution_count": 17,
   "metadata": {},
   "outputs": [
    {
     "name": "stdout",
     "output_type": "stream",
     "text": [
      "optimal number of clusters is 19\n"
     ]
    },
    {
     "data": {
      "text/html": [
       "<div>\n",
       "<style scoped>\n",
       "    .dataframe tbody tr th:only-of-type {\n",
       "        vertical-align: middle;\n",
       "    }\n",
       "\n",
       "    .dataframe tbody tr th {\n",
       "        vertical-align: top;\n",
       "    }\n",
       "\n",
       "    .dataframe thead th {\n",
       "        text-align: right;\n",
       "    }\n",
       "</style>\n",
       "<table border=\"1\" class=\"dataframe\">\n",
       "  <thead>\n",
       "    <tr style=\"text-align: right;\">\n",
       "      <th></th>\n",
       "      <th>5</th>\n",
       "      <th>6</th>\n",
       "      <th>7</th>\n",
       "      <th>8</th>\n",
       "      <th>9</th>\n",
       "      <th>10</th>\n",
       "      <th>11</th>\n",
       "      <th>12</th>\n",
       "      <th>13</th>\n",
       "      <th>14</th>\n",
       "      <th>15</th>\n",
       "      <th>16</th>\n",
       "      <th>17</th>\n",
       "      <th>18</th>\n",
       "      <th>19</th>\n",
       "    </tr>\n",
       "  </thead>\n",
       "  <tbody>\n",
       "    <tr>\n",
       "      <th>0</th>\n",
       "      <td>-0.007718</td>\n",
       "      <td>-0.057320</td>\n",
       "      <td>-0.036970</td>\n",
       "      <td>0.015847</td>\n",
       "      <td>0.071945</td>\n",
       "      <td>-0.081988</td>\n",
       "      <td>-0.107841</td>\n",
       "      <td>-0.094617</td>\n",
       "      <td>-0.137672</td>\n",
       "      <td>0.059980</td>\n",
       "      <td>0.088204</td>\n",
       "      <td>-0.000972</td>\n",
       "      <td>0.310680</td>\n",
       "      <td>0.176951</td>\n",
       "      <td>0.159872</td>\n",
       "    </tr>\n",
       "    <tr>\n",
       "      <th>12</th>\n",
       "      <td>-0.051259</td>\n",
       "      <td>-0.028585</td>\n",
       "      <td>0.064686</td>\n",
       "      <td>0.261804</td>\n",
       "      <td>0.235047</td>\n",
       "      <td>0.162625</td>\n",
       "      <td>0.164819</td>\n",
       "      <td>-0.135766</td>\n",
       "      <td>-0.179132</td>\n",
       "      <td>0.151733</td>\n",
       "      <td>0.341346</td>\n",
       "      <td>0.204265</td>\n",
       "      <td>0.038009</td>\n",
       "      <td>0.087053</td>\n",
       "      <td>0.089477</td>\n",
       "    </tr>\n",
       "    <tr>\n",
       "      <th>31</th>\n",
       "      <td>0.093903</td>\n",
       "      <td>0.068695</td>\n",
       "      <td>-0.129075</td>\n",
       "      <td>-0.104869</td>\n",
       "      <td>0.036624</td>\n",
       "      <td>-0.029059</td>\n",
       "      <td>-0.106260</td>\n",
       "      <td>0.613866</td>\n",
       "      <td>0.147845</td>\n",
       "      <td>0.131618</td>\n",
       "      <td>-0.079745</td>\n",
       "      <td>-0.158953</td>\n",
       "      <td>0.051392</td>\n",
       "      <td>0.034210</td>\n",
       "      <td>0.176603</td>\n",
       "    </tr>\n",
       "    <tr>\n",
       "      <th>37</th>\n",
       "      <td>-0.078177</td>\n",
       "      <td>0.128967</td>\n",
       "      <td>-0.220522</td>\n",
       "      <td>-0.005793</td>\n",
       "      <td>-0.141592</td>\n",
       "      <td>-0.029599</td>\n",
       "      <td>-0.203656</td>\n",
       "      <td>0.008159</td>\n",
       "      <td>-0.103251</td>\n",
       "      <td>-0.026125</td>\n",
       "      <td>0.018558</td>\n",
       "      <td>-0.106613</td>\n",
       "      <td>0.149217</td>\n",
       "      <td>0.062147</td>\n",
       "      <td>0.018428</td>\n",
       "    </tr>\n",
       "    <tr>\n",
       "      <th>40</th>\n",
       "      <td>-0.011363</td>\n",
       "      <td>0.037843</td>\n",
       "      <td>0.056108</td>\n",
       "      <td>-0.226113</td>\n",
       "      <td>-0.042357</td>\n",
       "      <td>0.051576</td>\n",
       "      <td>-0.066129</td>\n",
       "      <td>-0.006844</td>\n",
       "      <td>0.090758</td>\n",
       "      <td>-0.005210</td>\n",
       "      <td>0.193296</td>\n",
       "      <td>0.188490</td>\n",
       "      <td>-0.174530</td>\n",
       "      <td>0.126180</td>\n",
       "      <td>-0.105751</td>\n",
       "    </tr>\n",
       "    <tr>\n",
       "      <th>...</th>\n",
       "      <td>...</td>\n",
       "      <td>...</td>\n",
       "      <td>...</td>\n",
       "      <td>...</td>\n",
       "      <td>...</td>\n",
       "      <td>...</td>\n",
       "      <td>...</td>\n",
       "      <td>...</td>\n",
       "      <td>...</td>\n",
       "      <td>...</td>\n",
       "      <td>...</td>\n",
       "      <td>...</td>\n",
       "      <td>...</td>\n",
       "      <td>...</td>\n",
       "      <td>...</td>\n",
       "    </tr>\n",
       "    <tr>\n",
       "      <th>66</th>\n",
       "      <td>-0.039996</td>\n",
       "      <td>-0.020373</td>\n",
       "      <td>0.664684</td>\n",
       "      <td>0.125592</td>\n",
       "      <td>-0.002645</td>\n",
       "      <td>0.270955</td>\n",
       "      <td>-0.201928</td>\n",
       "      <td>0.100232</td>\n",
       "      <td>0.216049</td>\n",
       "      <td>0.158277</td>\n",
       "      <td>0.079003</td>\n",
       "      <td>0.376601</td>\n",
       "      <td>0.238506</td>\n",
       "      <td>0.076238</td>\n",
       "      <td>0.436345</td>\n",
       "    </tr>\n",
       "    <tr>\n",
       "      <th>81</th>\n",
       "      <td>-0.150949</td>\n",
       "      <td>0.096555</td>\n",
       "      <td>-0.204925</td>\n",
       "      <td>0.089981</td>\n",
       "      <td>0.590414</td>\n",
       "      <td>0.065692</td>\n",
       "      <td>0.102775</td>\n",
       "      <td>0.150188</td>\n",
       "      <td>-0.165292</td>\n",
       "      <td>0.168227</td>\n",
       "      <td>0.022709</td>\n",
       "      <td>0.084229</td>\n",
       "      <td>0.436639</td>\n",
       "      <td>0.173952</td>\n",
       "      <td>0.073745</td>\n",
       "    </tr>\n",
       "    <tr>\n",
       "      <th>88</th>\n",
       "      <td>0.016103</td>\n",
       "      <td>-0.212643</td>\n",
       "      <td>0.020264</td>\n",
       "      <td>-0.058965</td>\n",
       "      <td>0.039793</td>\n",
       "      <td>-0.098775</td>\n",
       "      <td>0.338550</td>\n",
       "      <td>-0.164483</td>\n",
       "      <td>0.073781</td>\n",
       "      <td>-0.107542</td>\n",
       "      <td>-0.126406</td>\n",
       "      <td>-0.054364</td>\n",
       "      <td>-0.216595</td>\n",
       "      <td>0.029034</td>\n",
       "      <td>0.144469</td>\n",
       "    </tr>\n",
       "    <tr>\n",
       "      <th>93</th>\n",
       "      <td>-0.041527</td>\n",
       "      <td>-0.101072</td>\n",
       "      <td>-0.027916</td>\n",
       "      <td>-0.014787</td>\n",
       "      <td>-0.100606</td>\n",
       "      <td>-0.034184</td>\n",
       "      <td>0.168301</td>\n",
       "      <td>0.363038</td>\n",
       "      <td>0.161381</td>\n",
       "      <td>-0.213205</td>\n",
       "      <td>-0.009706</td>\n",
       "      <td>0.043934</td>\n",
       "      <td>0.026266</td>\n",
       "      <td>0.083341</td>\n",
       "      <td>0.230579</td>\n",
       "    </tr>\n",
       "    <tr>\n",
       "      <th>97</th>\n",
       "      <td>-0.026613</td>\n",
       "      <td>-0.032902</td>\n",
       "      <td>0.003368</td>\n",
       "      <td>-0.003318</td>\n",
       "      <td>0.130575</td>\n",
       "      <td>-0.012095</td>\n",
       "      <td>0.282020</td>\n",
       "      <td>-0.124168</td>\n",
       "      <td>0.207870</td>\n",
       "      <td>-0.037011</td>\n",
       "      <td>0.029699</td>\n",
       "      <td>0.112572</td>\n",
       "      <td>-0.031921</td>\n",
       "      <td>-0.096445</td>\n",
       "      <td>0.195661</td>\n",
       "    </tr>\n",
       "  </tbody>\n",
       "</table>\n",
       "<p>100 rows × 15 columns</p>\n",
       "</div>"
      ],
      "text/plain": [
       "          5         6         7         8         9         10        11  \\\n",
       "0  -0.007718 -0.057320 -0.036970  0.015847  0.071945 -0.081988 -0.107841   \n",
       "12 -0.051259 -0.028585  0.064686  0.261804  0.235047  0.162625  0.164819   \n",
       "31  0.093903  0.068695 -0.129075 -0.104869  0.036624 -0.029059 -0.106260   \n",
       "37 -0.078177  0.128967 -0.220522 -0.005793 -0.141592 -0.029599 -0.203656   \n",
       "40 -0.011363  0.037843  0.056108 -0.226113 -0.042357  0.051576 -0.066129   \n",
       "..       ...       ...       ...       ...       ...       ...       ...   \n",
       "66 -0.039996 -0.020373  0.664684  0.125592 -0.002645  0.270955 -0.201928   \n",
       "81 -0.150949  0.096555 -0.204925  0.089981  0.590414  0.065692  0.102775   \n",
       "88  0.016103 -0.212643  0.020264 -0.058965  0.039793 -0.098775  0.338550   \n",
       "93 -0.041527 -0.101072 -0.027916 -0.014787 -0.100606 -0.034184  0.168301   \n",
       "97 -0.026613 -0.032902  0.003368 -0.003318  0.130575 -0.012095  0.282020   \n",
       "\n",
       "          12        13        14        15        16        17        18  \\\n",
       "0  -0.094617 -0.137672  0.059980  0.088204 -0.000972  0.310680  0.176951   \n",
       "12 -0.135766 -0.179132  0.151733  0.341346  0.204265  0.038009  0.087053   \n",
       "31  0.613866  0.147845  0.131618 -0.079745 -0.158953  0.051392  0.034210   \n",
       "37  0.008159 -0.103251 -0.026125  0.018558 -0.106613  0.149217  0.062147   \n",
       "40 -0.006844  0.090758 -0.005210  0.193296  0.188490 -0.174530  0.126180   \n",
       "..       ...       ...       ...       ...       ...       ...       ...   \n",
       "66  0.100232  0.216049  0.158277  0.079003  0.376601  0.238506  0.076238   \n",
       "81  0.150188 -0.165292  0.168227  0.022709  0.084229  0.436639  0.173952   \n",
       "88 -0.164483  0.073781 -0.107542 -0.126406 -0.054364 -0.216595  0.029034   \n",
       "93  0.363038  0.161381 -0.213205 -0.009706  0.043934  0.026266  0.083341   \n",
       "97 -0.124168  0.207870 -0.037011  0.029699  0.112572 -0.031921 -0.096445   \n",
       "\n",
       "          19  \n",
       "0   0.159872  \n",
       "12  0.089477  \n",
       "31  0.176603  \n",
       "37  0.018428  \n",
       "40 -0.105751  \n",
       "..       ...  \n",
       "66  0.436345  \n",
       "81  0.073745  \n",
       "88  0.144469  \n",
       "93  0.230579  \n",
       "97  0.195661  \n",
       "\n",
       "[100 rows x 15 columns]"
      ]
     },
     "execution_count": 17,
     "metadata": {},
     "output_type": "execute_result"
    }
   ],
   "source": [
    "silhouette = silhouette_method(m)\n",
    "df=pd.DataFrame.from_dict(silhouette)\n",
    "print('optimal number of clusters is',df.columns[df.sum().argmax()])\n",
    "df"
   ]
  },
  {
   "cell_type": "markdown",
   "metadata": {},
   "source": [
    "#### Trying different random initializations"
   ]
  },
  {
   "cell_type": "code",
   "execution_count": null,
   "metadata": {},
   "outputs": [],
   "source": [
    "def kmeans_optimize(k,matrix,iterations):\n",
    "    plot_data={}\n",
    "    all_wss = []\n",
    "    for i in range(iterations):    # for each simulation\n",
    "        itr = []\n",
    "        clusters, centers, n_clusters, WSS = kmeans(k,matrix)    # a different set of random centroids is generated\n",
    "        for n in n_clusters.values():    # for each cluster \n",
    "            itr.append(len(clusters[n])/len(m))    # we save the percentage of point it contains\n",
    "        plot_data['iter_'+str(i)]=itr    # save data to plot for each iteration\n",
    "        all_wss.append(WSS)    # save WSS for each iteration\n",
    "    \n",
    "    return plot_data,centers,all_wss"
   ]
  },
  {
   "cell_type": "code",
   "execution_count": null,
   "metadata": {},
   "outputs": [],
   "source": [
    "plot_data,centers,all_wsc = kmeans_optimize(5,m,5)"
   ]
  },
  {
   "cell_type": "code",
   "execution_count": null,
   "metadata": {},
   "outputs": [],
   "source": [
    "colors = sns.color_palette(\"Pastel1\")\n",
    "pd.DataFrame.from_dict(plot_data,orient='index').plot.barh(stacked=True,color=colors)\n",
    "plt.legend(loc='best',bbox_to_anchor=(0.7,0.5, 0.5, 0.5));\n",
    "print('The best iteration is', all_wsc.index(min(all_wsc)))"
   ]
  },
  {
   "cell_type": "code",
   "execution_count": null,
   "metadata": {},
   "outputs": [],
   "source": [
    "def initialize(k,matrix,iterations):\n",
    "    \n",
    "    # optimal number of clusters methods:\n",
    "    # 1. elbow method\n",
    "    # 2. silhouette method\n",
    "    # 3. gap statistic method\n",
    "    \n",
    "    # randomly picking points\n",
    "    \n",
    "    return 1"
   ]
  },
  {
   "cell_type": "markdown",
   "metadata": {},
   "source": [
    "### Comapring to built in k-means ++"
   ]
  },
  {
   "cell_type": "code",
   "execution_count": null,
   "metadata": {},
   "outputs": [],
   "source": [
    "def k_means_pp(reviews):\n",
    "    # built in https://scikit-learn.org/stable/modules/generated/sklearn.cluster.KMeans.html\n",
    "    return clusters2"
   ]
  },
  {
   "cell_type": "code",
   "execution_count": null,
   "metadata": {},
   "outputs": [],
   "source": [
    "def compare(clusters1,clusters2):\n",
    "    return comparison"
   ]
  },
  {
   "cell_type": "markdown",
   "metadata": {},
   "source": [
    "### Visualizing results"
   ]
  },
  {
   "cell_type": "code",
   "execution_count": null,
   "metadata": {},
   "outputs": [],
   "source": [
    "def word_cloud(cluster):\n",
    "    return plots"
   ]
  },
  {
   "cell_type": "code",
   "execution_count": null,
   "metadata": {},
   "outputs": [],
   "source": [
    "def score_distribution(cluster):\n",
    "    return score"
   ]
  },
  {
   "cell_type": "code",
   "execution_count": null,
   "metadata": {},
   "outputs": [],
   "source": [
    "def analyze(clusters):\n",
    "    for cluster in clusters:\n",
    "        plots = word_cloud(cluster)\n",
    "        numberOfProds = set(df.products)\n",
    "        scoreDistro = score_distribution(cluster)\n",
    "        uniqueUsers = set(df.users)\n",
    "    return plots, numberOfProds, scoreDistro, uniqueUsers"
   ]
  },
  {
   "cell_type": "markdown",
   "metadata": {},
   "source": [
    "## 3. ARLGORITHM\n",
    "Prove that we can sort A in time O(n + r).\n",
    "https://it.wikipedia.org/wiki/Counting_sort"
   ]
  },
  {
   "cell_type": "code",
   "execution_count": null,
   "metadata": {},
   "outputs": [],
   "source": [
    "s = min{ A[1], ..., A[n] } \n",
    "b = max { A[1], ..., A[n] }.\n",
    "r = b - s"
   ]
  }
 ],
 "metadata": {
  "kernelspec": {
   "display_name": "Python 3",
   "language": "python",
   "name": "python3"
  },
  "language_info": {
   "codemirror_mode": {
    "name": "ipython",
    "version": 3
   },
   "file_extension": ".py",
   "mimetype": "text/x-python",
   "name": "python",
   "nbconvert_exporter": "python",
   "pygments_lexer": "ipython3",
   "version": "3.8.3"
  }
 },
 "nbformat": 4,
 "nbformat_minor": 4
}
